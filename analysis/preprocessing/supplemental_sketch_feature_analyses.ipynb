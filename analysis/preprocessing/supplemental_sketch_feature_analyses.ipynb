{
 "cells": [
  {
   "cell_type": "markdown",
   "id": "fe6db723",
   "metadata": {},
   "source": [
    "## Purpose of this notebook is to conduct follow-up analyses inspired by reviewer comments \n",
    "\n",
    "* Compare the degree to which drawings produced by the same sketcher become more internally consistent over time against a baseline measure of the degree to which drawings of a given object produced later (i.e., and which are made from less ink, on average) are more similar to one another than drawings produced earlier, regardless of who produced them"
   ]
  },
  {
   "cell_type": "code",
   "execution_count": 1,
   "id": "a72970c5",
   "metadata": {},
   "outputs": [],
   "source": [
    "import os, sys\n",
    "## add helpers to python path\n",
    "if os.path.join('..','helpers') not in sys.path:\n",
    "    sys.path.append(os.path.join('..','helpers'))\n",
    "\n",
    "import pymongo as pm\n",
    "import numpy as np\n",
    "import scipy.stats as stats\n",
    "import pandas as pd\n",
    "import json\n",
    "import requests\n",
    "import re\n",
    "from io import BytesIO\n",
    "from PIL import Image, ImageFilter\n",
    "import object_mask_utils as u\n",
    "import socket\n",
    "import glob\n",
    "from scipy.stats import entropy\n",
    "\n",
    "import matplotlib\n",
    "from matplotlib import pylab, mlab, pyplot\n",
    "%matplotlib inline\n",
    "from IPython.core.pylabtools import figsize, getfigs\n",
    "plt = pyplot\n",
    "import seaborn as sns\n",
    "sns.set_context('talk')\n",
    "sns.set_style('white')\n",
    "\n",
    "from skimage import io, img_as_float\n",
    "import base64\n",
    "\n",
    "from IPython.core.pylabtools import figsize, getfigs\n",
    "\n",
    "from IPython.display import clear_output\n",
    "import importlib\n",
    "import time\n",
    "\n",
    "from collections import Counter\n",
    "import operator\n",
    "\n",
    "import warnings\n",
    "warnings.filterwarnings(\"ignore\", category=DeprecationWarning)\n",
    "warnings.filterwarnings(\"ignore\", message=\"numpy.dtype size changed\")\n",
    "warnings.filterwarnings(\"ignore\", message=\"numpy.ufunc size changed\")"
   ]
  },
  {
   "cell_type": "code",
   "execution_count": 2,
   "id": "191bd0eb",
   "metadata": {},
   "outputs": [],
   "source": [
    "## which experiment do you want to analyze? options: refgame1.2, refgame2.o\n",
    "curr_exp = 'refgame1.2'\n",
    "\n",
    "## directory & file hierarchy\n",
    "proj_dir = os.path.abspath('../../')\n",
    "analysis_dir = os.getcwd()\n",
    "data_dir = os.path.join(proj_dir,'data')\n",
    "experiment_dir = os.path.join(data_dir, 'experiment', curr_exp)\n",
    "feat_dir = os.path.join(data_dir, 'features', curr_exp)\n",
    "\n",
    "## paths to visual features & metadata\n",
    "path_to_feats = os.path.join(feat_dir, 'FEATURES_vgg_FC6.npy')\n",
    "path_to_meta = os.path.join(feat_dir, 'METADATA.csv')\n",
    "\n",
    "## import dictionaries that map between shapenet ids and graphical conventions naming scheme\n",
    "importlib.reload(u)\n",
    "G2S = u.GC2SHAPENET\n",
    "S2G = u.SHAPENET2GC"
   ]
  },
  {
   "cell_type": "markdown",
   "id": "cd36dc13",
   "metadata": {},
   "source": [
    "### Addressing an alternative explanation for our finding that drawings become more similar across repetitions\n",
    "\n",
    "To address a potential alternative explanation for our finding that drawings become more similar across repetitions — namely, that because drawings made from less ink are more similar to each other (i.e., by having more white pixels) than drawings made from more ink. \n",
    "\n",
    "In this new control analyses, we compare the degree to which drawings produced by the same sketcher become more internally consistent over time against a baseline measure of the degree to which drawings of a given object produced later (i.e., and which are made from less ink, on average) are more similar to one another than drawings produced earlier, regardless of who produced them. \n",
    "\n",
    "This analysis quantifies the effect of communicative context on visual similarity (i.e., the degree to which a drawing preserves the same visual features that affect how strongly it resembles the target object) above and beyond that expected due to generic changes in the amount of detail in a drawing across repetitions. "
   ]
  },
  {
   "cell_type": "code",
   "execution_count": 4,
   "id": "f7f69013",
   "metadata": {},
   "outputs": [],
   "source": [
    "## load in features and metadata\n",
    "F = np.load(path_to_feats)\n",
    "M = pd.read_csv(path_to_meta)\n",
    "assert F.shape[0]==M.shape[0]"
   ]
  },
  {
   "cell_type": "code",
   "execution_count": null,
   "id": "aadbe147",
   "metadata": {},
   "outputs": [],
   "source": []
  },
  {
   "cell_type": "code",
   "execution_count": null,
   "id": "a7248229",
   "metadata": {},
   "outputs": [],
   "source": []
  },
  {
   "cell_type": "code",
   "execution_count": null,
   "id": "3b197b92",
   "metadata": {},
   "outputs": [],
   "source": []
  },
  {
   "cell_type": "code",
   "execution_count": null,
   "id": "c590f9a3",
   "metadata": {},
   "outputs": [],
   "source": []
  },
  {
   "cell_type": "code",
   "execution_count": null,
   "id": "8bec4cf6",
   "metadata": {},
   "outputs": [],
   "source": []
  },
  {
   "cell_type": "code",
   "execution_count": null,
   "id": "30c2e43f",
   "metadata": {},
   "outputs": [],
   "source": []
  },
  {
   "cell_type": "code",
   "execution_count": null,
   "id": "528d6787",
   "metadata": {},
   "outputs": [],
   "source": []
  },
  {
   "cell_type": "code",
   "execution_count": null,
   "id": "e2bdaed1",
   "metadata": {},
   "outputs": [],
   "source": []
  }
 ],
 "metadata": {
  "kernelspec": {
   "display_name": "Python 3 (ipykernel)",
   "language": "python",
   "name": "python3"
  },
  "language_info": {
   "codemirror_mode": {
    "name": "ipython",
    "version": 3
   },
   "file_extension": ".py",
   "mimetype": "text/x-python",
   "name": "python",
   "nbconvert_exporter": "python",
   "pygments_lexer": "ipython3",
   "version": "3.8.3"
  }
 },
 "nbformat": 4,
 "nbformat_minor": 5
}
