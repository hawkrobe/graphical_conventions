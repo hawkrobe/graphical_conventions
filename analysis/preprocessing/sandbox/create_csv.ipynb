{
 "cells": [
  {
   "cell_type": "code",
   "execution_count": 11,
   "metadata": {
    "collapsed": true
   },
   "outputs": [],
   "source": [
    "data_path = '../../../data/3dObjects/sketchpad_repeated/feedback_pilot1_group_data.csv'\n",
    "D = pd.read_csv(data_path)"
   ]
  },
  {
   "cell_type": "code",
   "execution_count": 9,
   "metadata": {
    "collapsed": true
   },
   "outputs": [],
   "source": [
    "# directory & file hierarchy\n",
    "exp_path = '3dObjects/sketchpad_repeated'\n",
    "analysis_dir = os.getcwd()\n",
    "data_dir = os.path.abspath(os.path.join(os.getcwd(),'../../..','data',exp_path))\n",
    "exp_dir = os.path.abspath(os.path.join(os.getcwd(),'../../..','experiments',exp_path))\n",
    "sketch_dir = os.path.abspath(os.path.join(os.getcwd(),'../../..','analysis',exp_path,'sketches','pilot1'))"
   ]
  },
  {
   "cell_type": "code",
   "execution_count": 10,
   "metadata": {
    "collapsed": true
   },
   "outputs": [],
   "source": [
    "# set vars \n",
    "auth = pd.read_csv('auth.txt', header = None) # this auth.txt file contains the password for the sketchloop user\n",
    "pswd = auth.values[0][0]\n",
    "user = 'sketchloop'\n",
    "host = 'rxdhawkins.me' ## cocolab ip address\n",
    "\n",
    "# have to fix this to be able to analyze from local\n",
    "import pymongo as pm\n",
    "conn = pm.MongoClient('mongodb://sketchloop:' + pswd + '@127.0.0.1')\n",
    "db = conn['3dObjects']\n",
    "coll = db['sketchpad_repeated']"
   ]
  },
  {
   "cell_type": "code",
   "execution_count": 11,
   "metadata": {},
   "outputs": [
    {
     "name": "stdout",
     "output_type": "stream",
     "text": [
      "7851 stroke records in the database.\n",
      "824 clickedObj records in the database.\n"
     ]
    }
   ],
   "source": [
    "S = coll.find({ '$and': [{'iterationName':'pilot1'}, {'eventType': 'stroke'}]}).sort('time')\n",
    "C = coll.find({ '$and': [{'iterationName':'pilot1'}, {'eventType': 'clickedObj'}]}).sort('time')\n",
    "print(str(S.count()) + ' stroke records in the database.')\n",
    "print(str(C.count()) + ' clickedObj records in the database.')"
   ]
  },
  {
   "cell_type": "code",
   "execution_count": 12,
   "metadata": {},
   "outputs": [
    {
     "name": "stdout",
     "output_type": "stream",
     "text": [
      "['4092-b91c1973-bdfc-4924-b9cf-5e81badee480', '1965-52a1abc6-5806-4638-b72f-056f4a252b07', '2205-87b10293-f3b9-454c-a2e9-217a12d9685f', '5380-4e8e8af4-8290-4048-a320-c91c726b4d6d', '7643-ff6008ea-5d0b-4c32-8bed-28500e8e516c', '1924-85b67e65-e013-47fe-9dd5-324b710686af', '1432-284686d1-bd29-4d6d-b327-eee74e46ab49', '3077-e15ebc63-b1e2-4391-b52f-eec60d1071d5', '1295-d0ba610b-dd23-4800-9c6f-1d6f7f0b2f21', '2904-d5fa6f4a-24e1-4568-b0ed-fb01ad503ed3', '9471-7c41e215-0c8d-4de0-b6b9-483820e04a67', '4828-f6ec5851-9e13-4572-b8ed-e62089183a9b', '3443-fd357b90-2125-45cd-b8de-f9be0a0e720a', '0766-fcb90e7e-bf4a-4a46-b6d6-3165b6c12b88', '8075-81e0cc34-dd71-4d6c-8495-d6d764655b7f', '7734-8c2513e2-42af-4498-9075-e6d5468b7698', '5674-2e2948cd-e6ca-4b55-9822-cc0b2b2f2b8a', '8983-89e75690-0c94-4555-87e2-33e96a727dfa', '2967-932927d6-ece6-4610-8026-1898fe6e5c67', '7024-8ac78089-539a-428b-9d0e-b52c71a0a1b4', '5868-379c081d-0bb8-4e4d-8b2f-8221bbbec6f0', '5022-385cb469-6108-4784-a2d7-7a2dda3ff7c6']\n"
     ]
    }
   ],
   "source": [
    "# print unique gameid's\n",
    "unique_gameids = coll.find({ '$and': [{'iterationName':'pilot1'}, {'eventType': 'clickedObj'}]}).sort('time').distinct('gameid')\n",
    "print(list(map(str,unique_gameids)))\n",
    "\n",
    "# filter out  records that match researcher ID's\n",
    "jefan = ['A1MMCS8S8CTWKU','A1MMCS8S8CTWKV']\n",
    "hawkrobe = ['A1BOIDKD33QSDK']\n",
    "researchers = jefan + hawkrobe\n",
    "workers = [i for i in coll.find({'iterationName':'pilot1'}).distinct('workerId') if i not in researchers]"
   ]
  },
  {
   "cell_type": "code",
   "execution_count": null,
   "metadata": {
    "collapsed": true
   },
   "outputs": [],
   "source": []
  },
  {
   "cell_type": "code",
   "execution_count": 167,
   "metadata": {},
   "outputs": [
    {
     "name": "stdout",
     "output_type": "stream",
     "text": [
      "1 A1HU 40 stroke\n",
      "1 A1HW 40 clickedObj\n",
      "2 A52F 40 stroke\n",
      "2 A14E 40 clickedObj\n",
      "3 A64J 40 stroke\n",
      "3 A1IK 40 clickedObj\n",
      "4 A3Q0 40 stroke\n",
      "4 ARJJ 40 clickedObj\n",
      "5 A2QC 4 stroke\n",
      "5 A183 3 clickedObj\n",
      "6 AT3C 40 stroke\n",
      "6 A5YV 40 clickedObj\n",
      "7 A8HS 40 stroke\n",
      "7 A1T0 40 clickedObj\n",
      "8 A1CE 40 stroke\n",
      "8 A1XI 40 clickedObj\n",
      "9 A13T 40 stroke\n",
      "9 A3PO 40 clickedObj\n",
      "10 A151 40 stroke\n",
      "10 A31A 40 clickedObj\n",
      "11 A3KE 40 stroke\n",
      "11 AEQ9 40 clickedObj\n",
      "12 A3MD 40 stroke\n",
      "12 ADIA 40 clickedObj\n",
      "13 A2XG 40 stroke\n",
      "13 A3V1 40 clickedObj\n",
      "14 A2F2 40 stroke\n",
      "14 A313 40 clickedObj\n",
      "15 A33Q 40 stroke\n",
      "15 AVD6 40 clickedObj\n",
      "16 A1BH 40 stroke\n",
      "16 A127 40 clickedObj\n",
      "17 A1SL 40 stroke\n",
      "17 AOKT 40 clickedObj\n",
      "18 AA4K 40 stroke\n",
      "18 A219 40 clickedObj\n",
      "19 A3PY 40 stroke\n",
      "19 A2CY 40 clickedObj\n",
      "20 A2YL 21 stroke\n",
      "20 A107 21 clickedObj\n",
      "21 A1PL 40 stroke\n",
      "21 A1PF 40 clickedObj\n",
      "   ===========   \n",
      "17 valid gameIDs (# complete games).\n"
     ]
    }
   ],
   "source": [
    "valid_gameids = []\n",
    "for i,g in enumerate(unique_gameids):\n",
    "    W = coll.find({ '$and': [{'gameid': g}]}).distinct('workerId')\n",
    "    for w in W:\n",
    "        if w in workers:\n",
    "            X = coll.find({ '$and': [{'workerId': w}, {'gameid': g}]}).distinct('trialNum')\n",
    "            eventType = coll.find({ '$and': [{'workerId': w}]}).distinct('eventType')\n",
    "            print(i, w[:4], len(X), str(eventType[0]))\n",
    "            if (str(eventType[0])=='clickedObj') & (len(X)==40):\n",
    "                valid_gameids.append(g)\n",
    "print('   ===========   ')\n",
    "\n",
    "## filter if the pair clearly cheated\n",
    "cheaty = ['0766-fcb90e7e-bf4a-4a46-b6d6-3165b6c12b88','7024-8ac78089-539a-428b-9d0e-b52c71a0a1b4']\n",
    "valid_gameids = [i for i in valid_gameids if i not in cheaty]\n",
    "\n",
    "print(str(len(valid_gameids)) + ' valid gameIDs (# complete games).')\n",
    "\n"
   ]
  },
  {
   "cell_type": "code",
   "execution_count": 80,
   "metadata": {},
   "outputs": [
    {
     "name": "stdout",
     "output_type": "stream",
     "text": [
      "Analyzing game:  1965-52a1abc6-5806-4638-b72f-056f4a252b07\n",
      "Analyzing game:  2205-87b10293-f3b9-454c-a2e9-217a12d9685f\n",
      "Analyzing game:  5380-4e8e8af4-8290-4048-a320-c91c726b4d6d\n",
      "Analyzing game:  7643-ff6008ea-5d0b-4c32-8bed-28500e8e516c\n",
      "Analyzing game:  1432-284686d1-bd29-4d6d-b327-eee74e46ab49\n",
      "Analyzing game:  3077-e15ebc63-b1e2-4391-b52f-eec60d1071d5\n",
      "Analyzing game:  1295-d0ba610b-dd23-4800-9c6f-1d6f7f0b2f21\n",
      "Analyzing game:  2904-d5fa6f4a-24e1-4568-b0ed-fb01ad503ed3\n",
      "Analyzing game:  9471-7c41e215-0c8d-4de0-b6b9-483820e04a67\n",
      "Analyzing game:  4828-f6ec5851-9e13-4572-b8ed-e62089183a9b\n",
      "Analyzing game:  3443-fd357b90-2125-45cd-b8de-f9be0a0e720a\n",
      "Analyzing game:  8075-81e0cc34-dd71-4d6c-8495-d6d764655b7f\n",
      "Analyzing game:  7734-8c2513e2-42af-4498-9075-e6d5468b7698\n",
      "Analyzing game:  5674-2e2948cd-e6ca-4b55-9822-cc0b2b2f2b8a\n",
      "Analyzing game:  8983-89e75690-0c94-4555-87e2-33e96a727dfa\n",
      "Analyzing game:  2967-932927d6-ece6-4610-8026-1898fe6e5c67\n",
      "Analyzing game:  5022-385cb469-6108-4784-a2d7-7a2dda3ff7c6\n"
     ]
    }
   ],
   "source": [
    "from functools import reduce\n",
    "TrialNum = []\n",
    "GameID = []\n",
    "Condition = []\n",
    "Target = []\n",
    "Distractor1 = []\n",
    "Distractor2 = []\n",
    "Distractor3 = []\n",
    "Outcome = []\n",
    "Response = []\n",
    "Repetition = []\n",
    "numStrokes = []\n",
    "drawDuration = [] # in seconds\n",
    "svgStringLength = [] # sum of svg string for whole sketch\n",
    "svgStringLengthPerStroke = [] # svg string length per stroke\n",
    "numCurvesPerSketch = [] # number of curve segments per sketch\n",
    "numCurvesPerStroke = [] # mean number of curve segments per stroke\n",
    "svgStringStd = [] # std of svg string length across strokes for this sketch\n",
    "Outcome = []\n",
    "\n",
    "for g in valid_gameids:\n",
    "    print('Analyzing game: ', g)\n",
    "\n",
    "    X = coll.find({ '$and': [{'gameid': g}, {'eventType': 'clickedObj'}]}).sort('time')\n",
    "    Y = coll.find({ '$and': [{'gameid': g}, {'eventType': 'stroke'}]}).sort('time')\n",
    "\n",
    "    for t in X:\n",
    "        targetname = t['intendedName']\n",
    "        Repetition.append(t['repetition'])\n",
    "        distractors = [t['object2Name'],t['object3Name'],t['object4Name']]\n",
    "        full_list = [t['intendedName'],t['object2Name'],t['object3Name'],t['object4Name']] \n",
    "        y = coll.find({ '$and': [{'gameid': g}, {'eventType': 'stroke'}, {'trialNum': t['trialNum']}]}).sort('time')\n",
    "        ns = y.count()\n",
    "        numStrokes.append(ns)\n",
    "        drawDuration.append((y.__getitem__(ns-1)['time'] - y.__getitem__(0)['time'])/1000) # in seconds\n",
    "        ls = [len(_y['svgData']) for _y in y]\n",
    "        svgStringLength.append(reduce(lambda x, y: x + y, ls))\n",
    "        y = coll.find({ '$and': [{'gameid': g}, {'eventType': 'stroke'}, {'trialNum': t['trialNum']}]}).sort('time')\n",
    "        num_curves = [len([m.start() for m in re.finditer('c', _y['svgData'])]) for _y in y]\n",
    "        numCurvesPerSketch.append(reduce(lambda x, y: x + y, num_curves))\n",
    "        numCurvesPerStroke.append(reduce(lambda x, y: x + y, num_curves)/ns)\n",
    "        svgStringLengthPerStroke.append(reduce(lambda x, y: x + y, ls)/ns)\n",
    "        svgStringStd.append(np.std(ls))\n",
    "    #     ## aggregate game metadata\n",
    "        TrialNum.append(t['trialNum'])\n",
    "        GameID.append(t['gameid'])        \n",
    "        Target.append(targetname)\n",
    "        Condition.append(t['condition'])\n",
    "        Response.append(t['clickedName'])\n",
    "        Outcome.append(t['correct'])\n",
    "        Distractor1.append(distractors[0])\n",
    "        Distractor2.append(distractors[1])\n",
    "        Distractor3.append(distractors[2])  \n",
    "    \n",
    "\n"
   ]
  },
  {
   "cell_type": "code",
   "execution_count": null,
   "metadata": {
    "collapsed": true
   },
   "outputs": [],
   "source": [
    "# add png to D dataframe\n",
    "png = []\n",
    "for g in valid_gameids:\n",
    "    X = coll.find({ '$and': [{'gameid': g}, {'eventType': 'clickedObj'}]}).sort('time')\n",
    "    Y = coll.find({ '$and': [{'gameid': g}, {'eventType': 'stroke'}]}).sort('time')\n",
    "    # print out sketches from all trials from this game\n",
    "    for t in X: \n",
    "        png.append(t['pngString']          \n",
    "D = D.assign(png=pd.Series(png).values)\n",
    "\n",
    "# save D out as group_data.csv \n",
    "D.to_csv(os.path.join(data_dir,'group_data.csv'))"
   ]
  }
 ],
 "metadata": {
  "kernelspec": {
   "display_name": "Python 3",
   "language": "python",
   "name": "python3"
  },
  "language_info": {
   "codemirror_mode": {
    "name": "ipython",
    "version": 3
   },
   "file_extension": ".py",
   "mimetype": "text/x-python",
   "name": "python",
   "nbconvert_exporter": "python",
   "pygments_lexer": "ipython3",
   "version": "3.6.1"
  }
 },
 "nbformat": 4,
 "nbformat_minor": 2
}
