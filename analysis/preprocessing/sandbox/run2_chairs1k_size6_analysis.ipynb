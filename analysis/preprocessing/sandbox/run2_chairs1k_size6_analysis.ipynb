{
 "cells": [
  {
   "cell_type": "code",
   "execution_count": 94,
   "metadata": {
    "collapsed": false
   },
   "outputs": [],
   "source": [
    "from __future__ import division\n",
    "\n",
    "import os\n",
    "import urllib, cStringIO\n",
    "\n",
    "import pymongo as pm\n",
    "\n",
    "import matplotlib\n",
    "from matplotlib import pylab, mlab, pyplot\n",
    "%matplotlib inline\n",
    "from IPython.core.pylabtools import figsize, getfigs\n",
    "plt = pyplot\n",
    "import seaborn as sns\n",
    "sns.set_context('poster')\n",
    "sns.set_style('white')\n",
    "\n",
    "import numpy as np\n",
    "import scipy.stats as stats\n",
    "import pandas as pd\n",
    "import json\n",
    "import re\n",
    "\n",
    "from PIL import Image\n",
    "import base64\n",
    "import sys\n",
    "\n",
    "from svgpathtools import parse_path\n",
    "\n",
    "import warnings\n",
    "warnings.filterwarnings(\"ignore\", category=DeprecationWarning)\n",
    "warnings.filterwarnings(\"ignore\", message=\"numpy.dtype size changed\")\n",
    "warnings.filterwarnings(\"ignore\", message=\"numpy.ufunc size changed\")"
   ]
  },
  {
   "cell_type": "markdown",
   "metadata": {},
   "source": [
    "## setup"
   ]
  },
  {
   "cell_type": "code",
   "execution_count": 95,
   "metadata": {
    "collapsed": false
   },
   "outputs": [
    {
     "data": {
      "text/plain": [
       "<module 'analysis_helpers' from '/Users/judithfan/graphical_conventions/analysis/python/analysis_helpers.pyc'>"
      ]
     },
     "execution_count": 95,
     "metadata": {},
     "output_type": "execute_result"
    }
   ],
   "source": [
    "# directory & file hierarchy\n",
    "proj_dir = os.path.abspath('../../..')\n",
    "analysis_dir = os.getcwd()\n",
    "results_dir = os.path.join(proj_dir,'results')\n",
    "plot_dir = os.path.join(results_dir,'plots')\n",
    "csv_dir = os.path.join(results_dir,'csv')\n",
    "exp_dir = os.path.abspath(os.path.join(proj_dir,'experiments'))\n",
    "sketch_dir = os.path.abspath(os.path.join(proj_dir,'sketches'))\n",
    "\n",
    "## add helpers to python path\n",
    "if os.path.join(proj_dir,'analysis','python') not in sys.path:\n",
    "    sys.path.append(os.path.join(proj_dir,'analysis','python'))\n",
    "    \n",
    "if not os.path.exists(results_dir):\n",
    "    os.makedirs(results_dir)\n",
    "    \n",
    "if not os.path.exists(plot_dir):\n",
    "    os.makedirs(plot_dir)   \n",
    "    \n",
    "if not os.path.exists(csv_dir):\n",
    "    os.makedirs(csv_dir)       \n",
    "    \n",
    "# Assign variables within imported analysis helpers\n",
    "import analysis_helpers as h\n",
    "if sys.version_info[0]>=3:\n",
    "    from importlib import reload\n",
    "reload(h)"
   ]
  },
  {
   "cell_type": "code",
   "execution_count": 101,
   "metadata": {
    "collapsed": true
   },
   "outputs": [],
   "source": [
    "# set vars \n",
    "auth = pd.read_csv('auth.txt', header = None) # this auth.txt file contains the password for the sketchloop user\n",
    "pswd = auth.values[0][0]\n",
    "user = 'sketchloop'\n",
    "host = 'rxdhawkins.me' ## cocolab ip address\n",
    "\n",
    "# have to fix this to be able to analyze from local\n",
    "import pymongo as pm\n",
    "conn = pm.MongoClient('mongodb://sketchloop:' + pswd + '@127.0.0.1')\n",
    "db = conn['3dObjects']\n",
    "coll = db['graphical_conventions']\n",
    "\n",
    "# which iteration name should we use?\n",
    "iterationName = 'run2_chairs1k_size6'"
   ]
  },
  {
   "cell_type": "code",
   "execution_count": 102,
   "metadata": {
    "collapsed": false
   },
   "outputs": [
    {
     "name": "stdout",
     "output_type": "stream",
     "text": [
      "1136 stroke records in the database.\n",
      "214 clickedObj records in the database.\n"
     ]
    }
   ],
   "source": [
    "## get total number of stroke and clickedObj events in the collection as a whole\n",
    "S = coll.find({ '$and': [{'iterationName':iterationName}, {'eventType': 'stroke'}]}).sort('time')\n",
    "C = coll.find({ '$and': [{'iterationName':iterationName}, {'eventType': 'clickedObj'}]}).sort('time')\n",
    "print str(S.count()) + ' stroke records in the database.'\n",
    "print str(C.count()) + ' clickedObj records in the database.'"
   ]
  },
  {
   "cell_type": "markdown",
   "metadata": {},
   "source": [
    "## generate group dataframe"
   ]
  },
  {
   "cell_type": "code",
   "execution_count": 103,
   "metadata": {
    "collapsed": true
   },
   "outputs": [],
   "source": [
    "## list of researcher mturk worker ID's to ignore\n",
    "jefan = ['A1MMCS8S8CTWKU','A1MMCS8S8CTWKV','A1MMCS8S8CTWKS']\n",
    "hawkrobe = ['A1BOIDKD33QSDK']\n",
    "megsano = ['A1DVQQLVZR7W6I']\n",
    "researchers = jefan + hawkrobe + megsano"
   ]
  },
  {
   "cell_type": "code",
   "execution_count": 104,
   "metadata": {
    "collapsed": false
   },
   "outputs": [
    {
     "name": "stdout",
     "output_type": "stream",
     "text": [
      "There are 4 complete games in total.\n"
     ]
    }
   ],
   "source": [
    "reload(h)\n",
    "## get list of all candidate games\n",
    "games = coll.distinct('gameid')\n",
    "\n",
    "## get list of complete and valid games\n",
    "complete_games = h.get_complete_and_valid_games(games,coll,iterationName,\n",
    "                                                researchers=researchers, \n",
    "                                                tolerate_undefined_worker=False,\n",
    "                                                verbose=False)"
   ]
  },
  {
   "cell_type": "code",
   "execution_count": 105,
   "metadata": {
    "collapsed": false
   },
   "outputs": [
    {
     "name": "stdout",
     "output_type": "stream",
     "text": [
      "[u'9276-b328e584-c3fb-4a8f-b5a9-1b5f88292993', u'8640-15cf6802-aa7c-4aff-8b9c-90c680eefa73', u'9340-a1124706-24cc-44f3-9097-ba0b33adbf36', u'3511-727c76f4-f755-48e9-8fc8-b61efbe785c9']\n"
     ]
    }
   ],
   "source": [
    "print complete_games"
   ]
  },
  {
   "cell_type": "code",
   "execution_count": 108,
   "metadata": {
    "collapsed": true
   },
   "outputs": [],
   "source": [
    "short_list = complete_games[2:3]"
   ]
  },
  {
   "cell_type": "code",
   "execution_count": 109,
   "metadata": {
    "collapsed": false
   },
   "outputs": [
    {
     "name": "stdout",
     "output_type": "stream",
     "text": [
      "Analyzing game 9340-a1124706-24cc-44f3-9097-ba0b33adbf36 | 0 of 4: \n",
      "48\n"
     ]
    }
   ],
   "source": [
    "reload(h)\n",
    "\n",
    "# preprocessing \n",
    "\n",
    "TrialNum = []\n",
    "GameID = []\n",
    "Condition = []\n",
    "Target = []\n",
    "Category = []\n",
    "Distractor1 = []\n",
    "Distractor2 = []\n",
    "Distractor3 = []\n",
    "Outcome = []\n",
    "Response = []\n",
    "Repetition = []\n",
    "Phase = []\n",
    "numStrokes = []\n",
    "drawDuration = [] # in seconds\n",
    "svgStringLength = [] # sum of svg string for whole sketch\n",
    "svgStringLengthPerStroke = [] # svg string length per stroke\n",
    "numCurvesPerSketch = [] # number of curve segments per sketch\n",
    "numCurvesPerStroke = [] # mean number of curve segments per stroke\n",
    "svgStringStd = [] # std of svg string length across strokes for this sketch\n",
    "Outcome = [] #accuracy (True or False)\n",
    "png=[] # the sketch \n",
    "timedOut=[] # True if sketchers didn't draw anything, False o.w.\n",
    "meanPixelIntensity=[]\n",
    "\n",
    "for i,g in enumerate(short_list):\n",
    "        print 'Analyzing game {} | {} of {}: '.format(g, i, len(complete_games))\n",
    "\n",
    "        # collection of all clickedObj events in a particular game \n",
    "        X = coll.find({ '$and': [{'gameid': g}, {'eventType': 'clickedObj'}]}).sort('time')\n",
    "        print X.count()\n",
    "        # collection of all stroke events in a particular game \n",
    "        Y = coll.find({ '$and': [{'gameid': g}, {'eventType': 'stroke'}]}).sort('time')\n",
    "\n",
    "        for t in X: # for each clickedObj event\n",
    "            targetname = t['intendedName']\n",
    "            category = h.OBJECT_TO_CATEGORY_run2[targetname]\n",
    "            Phase.append(t['phase'])\n",
    "            Repetition.append(t['repetition'])\n",
    "            distractors = [t['object2Name'],t['object3Name'],t['object4Name']]\n",
    "            full_list = [t['intendedName'],t['object2Name'],t['object3Name'],t['object4Name']] \n",
    "            png.append(t['pngString'])\n",
    "\n",
    "            #for each stroke event with same trial number as this particular clickedObj event \n",
    "            y = coll.find({ '$and': [{'gameid': g}, {'eventType': 'stroke'}, {'trialNum': t['trialNum']}]}).sort('time')\n",
    "            # have to account for cases in which sketchers do not draw anything \n",
    "            if (y.count() == 0):\n",
    "                numStrokes.append(float('NaN'))\n",
    "                drawDuration.append(float('NaN'))\n",
    "                svgStringLength.append(float('NaN'))\n",
    "                svgStringLengthPerStroke.append(float('NaN'))\n",
    "                numCurvesPerSketch.append(float('NaN'))\n",
    "                numCurvesPerStroke.append(float('NaN'))\n",
    "                svgStringStd.append(float('NaN'))\n",
    "                meanPixelIntensity.append('NaN')\n",
    "                timedOut.append(True)\n",
    "            else: \n",
    "                # calculate numStrokes \n",
    "                lastStrokeNum = float(y[y.count() - 1]['currStrokeNum']) # get currStrokeNum at last stroke\n",
    "#                 numStrokes.append(lastStrokeNum)\n",
    "                ns = y.count()\n",
    "                assert lastStrokeNum == ns\n",
    "                numStrokes.append(ns)\n",
    "                \n",
    "                # calculate drawDuration \n",
    "                startStrokeTime =  float(y[0]['startStrokeTime'])\n",
    "                endStrokeTime = float(y[y.count() - 1]['endStrokeTime']) ## took out negative 1 \n",
    "                duration = (endStrokeTime - startStrokeTime) / 1000\n",
    "                drawDuration.append(duration)\n",
    "                \n",
    "                # calculate other measures that have to do with sketch \n",
    "                ls = [len(_y['svgData']) for _y in y]\n",
    "                svgStringLength.append(sum(ls))\n",
    "                y = coll.find({ '$and': [{'gameid': g}, {'eventType': 'stroke'}, {'trialNum': t['trialNum']}]}).sort('time')            \n",
    "                num_curves = [len([m.start() for m in re.finditer('c',str(_y['svgData']))]) for _y in y] ## gotcha: need to call string on _y['svgData'], o/w its unicode and re cant do anything with it\n",
    "                numCurvesPerSketch.append(sum(num_curves))\n",
    "                numCurvesPerStroke.append(sum(num_curves)/lastStrokeNum)\n",
    "                svgStringLengthPerStroke.append(sum(ls)/lastStrokeNum)\n",
    "                svgStringStd.append(np.std(ls))\n",
    "                timedOut.append(False)\n",
    "                \n",
    "                ## calculate pixel intensity (amount of ink spilled) \n",
    "            \n",
    "                imsize = 100\n",
    "                numpix = imsize**2\n",
    "                thresh = 250\n",
    "                imgData = t['pngString']\n",
    "                filestr = base64.b64decode(imgData)\n",
    "                fname = os.path.join('sketch.png')\n",
    "                with open(fname, \"wb\") as fh:\n",
    "                    fh.write(imgData.decode('base64'))\n",
    "                im = Image.open(fname).resize((imsize,imsize))\n",
    "                _im = np.array(im)\n",
    "                meanPixelIntensity.append(len(np.where(_im[:,:,3].flatten()>thresh)[0])/numpix)\n",
    "\n",
    "            ### aggregate game metadata\n",
    "            TrialNum.append(t['trialNum'])\n",
    "            GameID.append(t['gameid'])        \n",
    "            Target.append(targetname)\n",
    "            Category.append(category)\n",
    "            Condition.append(t['condition'])\n",
    "            Response.append(t['clickedName'])\n",
    "            Outcome.append(t['correct'])\n",
    "            Distractor1.append(distractors[0])\n",
    "            Distractor2.append(distractors[1])\n",
    "            Distractor3.append(distractors[2])  "
   ]
  },
  {
   "cell_type": "markdown",
   "metadata": {},
   "source": [
    "##### svg rendering"
   ]
  },
  {
   "cell_type": "code",
   "execution_count": 15,
   "metadata": {
    "collapsed": false
   },
   "outputs": [
    {
     "data": {
      "text/plain": [
       "<module 'svg_rendering_helpers' from 'svg_rendering_helpers.pyc'>"
      ]
     },
     "execution_count": 15,
     "metadata": {},
     "output_type": "execute_result"
    }
   ],
   "source": [
    "import svg_rendering_helpers as srh\n",
    "reload(srh)"
   ]
  },
  {
   "cell_type": "code",
   "execution_count": 154,
   "metadata": {
    "collapsed": false
   },
   "outputs": [],
   "source": [
    "g = '3511-727c76f4-f755-48e9-8fc8-b61efbe785c9'"
   ]
  },
  {
   "cell_type": "code",
   "execution_count": 155,
   "metadata": {
    "collapsed": true
   },
   "outputs": [],
   "source": [
    "## example sketch from trial one of some game\n",
    "stroke_recs = coll.find({ '$and': [{'gameid': g}, {'eventType': 'stroke'}, {'trialNum':25}]}).sort('time')"
   ]
  },
  {
   "cell_type": "code",
   "execution_count": 156,
   "metadata": {
    "collapsed": false
   },
   "outputs": [
    {
     "data": {
      "text/plain": [
       "18"
      ]
     },
     "execution_count": 156,
     "metadata": {},
     "output_type": "execute_result"
    }
   ],
   "source": [
    "stroke_recs.count()"
   ]
  },
  {
   "cell_type": "code",
   "execution_count": 157,
   "metadata": {
    "collapsed": false
   },
   "outputs": [],
   "source": [
    "svg_list = srh.make_svg_list(stroke_recs)"
   ]
  },
  {
   "cell_type": "code",
   "execution_count": 158,
   "metadata": {
    "collapsed": true
   },
   "outputs": [],
   "source": [
    "from matplotlib.path import Path\n",
    "import matplotlib.patches as patches"
   ]
  },
  {
   "cell_type": "code",
   "execution_count": 205,
   "metadata": {
    "collapsed": false
   },
   "outputs": [
    {
     "data": {
      "text/plain": [
       "[u'M90,196c0,-5.09807 -6.19823,-14.89497 -8,-20c-6.26025,-17.73738 -9,-37.20638 -9,-56',\n",
       " u'M74,117c11.74683,-23.49366 51.81428,-36.46703 74,-45c11.50511,-4.42504 20.39285,-15.13095 32,-19',\n",
       " u'M177,54c7.86592,5.24394 43.76194,36 53,36',\n",
       " u'M230,88c4.61694,4.61694 11.3147,8.47205 15,14c7.11402,10.67103 23.31885,81.68115 13,92',\n",
       " u'M56,227c33.58518,-33.58518 88.2295,-41 134,-41c6.74832,0 89.02719,8 68,8',\n",
       " u'M59,229c3.51022,3.51022 2.65467,8.65467 6,12c4.76237,4.76237 42.83263,-10.55509 48,-14c3.96662,-2.64441 3.94425,-6.94425 7,-10',\n",
       " u'M121,214c0,-2.30587 28.66961,-1 32,-1c8.86159,0 91.20359,4.79641 98,-2',\n",
       " u'M251,211c10.53794,0 30.62218,-17 13,-17',\n",
       " u'M135,217c2.13437,0 3.43841,2.94083 4,5c4.89134,17.93491 12,43.36263 12,62',\n",
       " u'M228,218c12.38292,0 27.83216,70 19,70',\n",
       " u'M79,161c-0.81098,0 -5.38952,20.94762 -6,24c-1.41104,7.05519 3.47351,13.63245 2,21c-1.6564,8.28202 -9.29709,12.48546 -11,21c-1.67236,8.3618 2,21.72782 2,31',\n",
       " u'M76,163c5.48368,0 7.04908,7.31135 10,11c2.83483,3.54354 11.88978,9.55913 13,14c1.2573,5.0292 6.5299,76.23505 -3,81c-7.51166,3.75583 -20.51248,-4.95138 -26,-8',\n",
       " u'M223,139c0,26.02317 34.20177,17.60089 49,25c3.9598,1.9799 8.76526,12.36855 11,16c2.32536,3.77871 14.90012,37 1,37',\n",
       " u'M228,134c14.60199,0 24.4465,-10.22325 36,-16c10.91768,-5.45884 29,34.67732 29,45',\n",
       " u'M284,223c0,-2.23607 1.60314,-4.25392 3,-6c0.75079,-0.93849 1.46252,-1.92503 2,-3c0.4714,-0.94281 0.79328,-1.96638 1,-3c0.65976,-3.29882 6.0082,-54.97539 5,-58c-0.55544,-1.66632 -0.39496,-4 -2,-4',\n",
       " u'M125,115c-0.99392,0 10.50457,23.01217 12,27c1.37631,3.67017 5.8915,31 6,31',\n",
       " u'M158,83c6.55491,32.77453 7.85741,69.71482 23,100',\n",
       " u'M214,103c0,19.33333 0,38.66667 0,58']"
      ]
     },
     "execution_count": 205,
     "metadata": {},
     "output_type": "execute_result"
    }
   ],
   "source": [
    "svg_list"
   ]
  },
  {
   "cell_type": "code",
   "execution_count": 208,
   "metadata": {
    "collapsed": false
   },
   "outputs": [
    {
     "data": {
      "text/plain": [
       "svgpathtools.path.CubicBezier"
      ]
     },
     "execution_count": 208,
     "metadata": {},
     "output_type": "execute_result"
    }
   ],
   "source": [
    "type(parsed[0])"
   ]
  },
  {
   "cell_type": "code",
   "execution_count": 160,
   "metadata": {
    "collapsed": false
   },
   "outputs": [],
   "source": [
    "curves = []\n",
    "Verts = []\n",
    "Codes = []\n",
    "for stroke_ind,stroke in enumerate(svg_list):\n",
    "    x = []\n",
    "    y = []\n",
    "    parsed = parse_path(stroke)\n",
    "    for i,p in enumerate(parsed):\n",
    "        x.append(p.start.real)\n",
    "        y.append(p.start.imag)  \n",
    "        x.append(p.control1.real)\n",
    "        y.append(p.control1.imag) \n",
    "        x.append(p.control2.real)\n",
    "        y.append(p.control2.imag)\n",
    "        x.append(p.end.real)\n",
    "        y.append(p.end.imag)\n",
    "    assert len(zip(x,y))%4==0\n",
    "    curves.append(zip(x,y))"
   ]
  },
  {
   "cell_type": "code",
   "execution_count": 161,
   "metadata": {
    "collapsed": false
   },
   "outputs": [
    {
     "data": {
      "text/plain": [
       "Path(CubicBezier(start=(214+103j), control1=(214+122.33333j), control2=(214+141.66667j), end=(214+161j)))"
      ]
     },
     "execution_count": 161,
     "metadata": {},
     "output_type": "execute_result"
    }
   ],
   "source": [
    "parsed"
   ]
  },
  {
   "cell_type": "code",
   "execution_count": 162,
   "metadata": {
    "collapsed": false
   },
   "outputs": [
    {
     "data": {
      "text/plain": [
       "18"
      ]
     },
     "execution_count": 162,
     "metadata": {},
     "output_type": "execute_result"
    }
   ],
   "source": [
    "len(curves)"
   ]
  },
  {
   "cell_type": "code",
   "execution_count": 130,
   "metadata": {
    "collapsed": false
   },
   "outputs": [
    {
     "data": {
      "text/plain": [
       "Path(Line(start=(124+82j), end=(124+82j)),\n",
       "     CubicBezier(start=(124+82j), control1=(126.40697+94.03486j), control2=(131.0048+106.01441j), end=(135+118j)),\n",
       "     CubicBezier(start=(135+118j), control1=(141.95122+138.85367j), control2=(155+165.038j), end=(155+187j)))"
      ]
     },
     "execution_count": 130,
     "metadata": {},
     "output_type": "execute_result"
    }
   ],
   "source": [
    "parsed"
   ]
  },
  {
   "cell_type": "code",
   "execution_count": 129,
   "metadata": {
    "collapsed": false
   },
   "outputs": [
    {
     "data": {
      "text/plain": [
       "u'M124,82v0c2.40697,12.03486 7.0048,24.01441 11,36c6.95122,20.85367 20,47.038 20,69'"
      ]
     },
     "execution_count": 129,
     "metadata": {},
     "output_type": "execute_result"
    }
   ],
   "source": [
    "svg_list[stroke_ind]"
   ]
  },
  {
   "cell_type": "code",
   "execution_count": 185,
   "metadata": {
    "collapsed": false
   },
   "outputs": [
    {
     "data": {
      "text/plain": [
       "[(90.0, 196.0),\n",
       " (90.0, 190.90193),\n",
       " (83.80177, 181.10503),\n",
       " (82.0, 176.0),\n",
       " (82.0, 176.0),\n",
       " (75.73975, 158.26262),\n",
       " (73.0, 138.79362),\n",
       " (73.0, 120.0)]"
      ]
     },
     "execution_count": 185,
     "metadata": {},
     "output_type": "execute_result"
    }
   ],
   "source": [
    "curves[0]"
   ]
  },
  {
   "cell_type": "code",
   "execution_count": 191,
   "metadata": {
    "collapsed": false
   },
   "outputs": [],
   "source": [
    "def polycurve_pathmaker(curves):\n",
    "    x = []    \n",
    "    y = []    \n",
    "    codes = []\n",
    "    stroke_ind = []\n",
    "    for i,l in enumerate(curves):\n",
    "        for _i,_l in enumerate(l):\n",
    "            x.append(_l[0])\n",
    "            y.append(_l[1])\n",
    "            stroke_ind.append(i)\n",
    "            if _i%4==0:\n",
    "                codes.append(Path.MOVETO)\n",
    "            else:\n",
    "                codes.append(Path.CURVE4) # remaining control and endpoints for each spline\n",
    "    verts = zip(x,y) \n",
    "    return verts, codes, stroke_ind"
   ]
  },
  {
   "cell_type": "code",
   "execution_count": null,
   "metadata": {
    "collapsed": false
   },
   "outputs": [],
   "source": []
  },
  {
   "cell_type": "code",
   "execution_count": 199,
   "metadata": {
    "collapsed": false
   },
   "outputs": [],
   "source": [
    "verts, codes, stroke_ind = polycurve_pathmaker(curves)\n",
    "verts, codes, stroke_ind = map(np.array,[verts, codes, stroke_ind])"
   ]
  },
  {
   "cell_type": "code",
   "execution_count": 197,
   "metadata": {
    "collapsed": false
   },
   "outputs": [],
   "source": [
    "assert len(stroke_ind)==len(verts)"
   ]
  },
  {
   "cell_type": "code",
   "execution_count": 196,
   "metadata": {
    "collapsed": false
   },
   "outputs": [
    {
     "data": {
      "text/plain": [
       "array([ 0,  1,  2,  3,  4,  5,  6,  7,  8,  9, 10, 11, 12, 13, 14, 15, 16,\n",
       "       17])"
      ]
     },
     "execution_count": 196,
     "metadata": {},
     "output_type": "execute_result"
    }
   ],
   "source": []
  },
  {
   "cell_type": "code",
   "execution_count": 201,
   "metadata": {
    "collapsed": false
   },
   "outputs": [
    {
     "data": {
      "text/plain": [
       "array([[ 90.     , 196.     ],\n",
       "       [ 90.     , 190.90193],\n",
       "       [ 83.80177, 181.10503],\n",
       "       [ 82.     , 176.     ],\n",
       "       [ 82.     , 176.     ],\n",
       "       [ 75.73975, 158.26262],\n",
       "       [ 73.     , 138.79362],\n",
       "       [ 73.     , 120.     ]])"
      ]
     },
     "execution_count": 201,
     "metadata": {},
     "output_type": "execute_result"
    }
   ],
   "source": [
    "verts[stroke_ind==0]"
   ]
  },
  {
   "cell_type": "code",
   "execution_count": 204,
   "metadata": {
    "collapsed": false,
    "scrolled": false
   },
   "outputs": [
    {
     "data": {
      "image/png": "[encoded data removed]",
      "text/plain": [
       "<Figure size 432x432 with 1 Axes>"
      ]
     },
     "metadata": {},
     "output_type": "display_data"
    },
    {
     "data": {
      "image/png": "[encoded data removed]",
      "text/plain": [
       "<Figure size 432x432 with 1 Axes>"
      ]
     },
     "metadata": {},
     "output_type": "display_data"
    },
    {
     "data": {
      "image/png": "[encoded data removed]",
      "text/plain": [
       "<Figure size 432x432 with 1 Axes>"
      ]
     },
     "metadata": {},
     "output_type": "display_data"
    },
    {
     "data": {
      "image/png": "[encoded data removed]",
      "text/plain": [
       "<Figure size 432x432 with 1 Axes>"
      ]
     },
     "metadata": {},
     "output_type": "display_data"
    },
    {
     "data": {
      "image/png": "[encoded data removed]",
      "text/plain": [
       "<Figure size 432x432 with 1 Axes>"
      ]
     },
     "metadata": {},
     "output_type": "display_data"
    },
    {
     "data": {
      "image/png": "[encoded data removed]",
      "text/plain": [
       "<Figure size 432x432 with 1 Axes>"
      ]
     },
     "metadata": {},
     "output_type": "display_data"
    },
    {
     "data": {
      "image/png": "[encoded data removed]",
      "text/plain": [
       "<Figure size 432x432 with 1 Axes>"
      ]
     },
     "metadata": {},
     "output_type": "display_data"
    },
    {
     "data": {
      "image/png": "[encoded data removed]",
      "text/plain": [
       "<Figure size 432x432 with 1 Axes>"
      ]
     },
     "metadata": {},
     "output_type": "display_data"
    },
    {
     "data": {
      "image/png": "[encoded data removed]",
      "text/plain": [
       "<Figure size 432x432 with 1 Axes>"
      ]
     },
     "metadata": {},
     "output_type": "display_data"
    },
    {
     "data": {
      "image/png": "[encoded data removed]",
      "text/plain": [
       "<Figure size 432x432 with 1 Axes>"
      ]
     },
     "metadata": {},
     "output_type": "display_data"
    },
    {
     "data": {
      "image/png": "[encoded data removed]",
      "text/plain": [
       "<Figure size 432x432 with 1 Axes>"
      ]
     },
     "metadata": {},
     "output_type": "display_data"
    },
    {
     "data": {
      "image/png": "[encoded data removed]",
      "text/plain": [
       "<Figure size 432x432 with 1 Axes>"
      ]
     },
     "metadata": {},
     "output_type": "display_data"
    },
    {
     "data": {
      "image/png": "[encoded data removed]",
      "text/plain": [
       "<Figure size 432x432 with 1 Axes>"
      ]
     },
     "metadata": {},
     "output_type": "display_data"
    },
    {
     "data": {
      "image/png": "[encoded data removed]",
      "text/plain": [
       "<Figure size 432x432 with 1 Axes>"
      ]
     },
     "metadata": {},
     "output_type": "display_data"
    },
    {
     "data": {
      "image/png": "[encoded data removed]",
      "text/plain": [
       "<Figure size 432x432 with 1 Axes>"
      ]
     },
     "metadata": {},
     "output_type": "display_data"
    },
    {
     "data": {
      "image/png": "[encoded data removed]",
      "text/plain": [
       "<Figure size 432x432 with 1 Axes>"
      ]
     },
     "metadata": {},
     "output_type": "display_data"
    },
    {
     "data": {
      "image/png": "[encoded data removed]",
      "text/plain": [
       "<Figure size 432x432 with 1 Axes>"
      ]
     },
     "metadata": {},
     "output_type": "display_data"
    },
    {
     "data": {
      "image/png": "[encoded data removed]",
      "text/plain": [
       "<Figure size 432x432 with 1 Axes>"
      ]
     },
     "metadata": {},
     "output_type": "display_data"
    }
   ],
   "source": [
    "imsize=6\n",
    "canvas_size=600\n",
    "line_width=5\n",
    "\n",
    "### render sketch so far\n",
    "\n",
    "\n",
    "unique_stroke_inds = np.unique(stroke_ind)\n",
    "for i,ind in enumerate(unique_stroke_inds):\n",
    "    fig = plt.figure(figsize=(imsize,imsize))    \n",
    "    ax = plt.subplot(111)\n",
    "    ax.axis('off')\n",
    "    ax.set_xlim(0,canvas_size)\n",
    "    ax.set_ylim(0,canvas_size)     \n",
    "    these_verts = verts[stroke_ind<=i]\n",
    "    these_codes = codes[stroke_ind<=i]\n",
    "    path = Path(these_verts, these_codes)\n",
    "    patch = patches.PathPatch(path, facecolor='none', edgecolor='black', lw=line_width)\n",
    "    ax.add_patch(patch)\n",
    "    plt.gca().invert_yaxis() # y values increase as you go down in image        \n",
    "    plt.show()"
   ]
  },
  {
   "cell_type": "code",
   "execution_count": null,
   "metadata": {
    "collapsed": false
   },
   "outputs": [],
   "source": []
  },
  {
   "cell_type": "code",
   "execution_count": null,
   "metadata": {
    "collapsed": false
   },
   "outputs": [],
   "source": []
  },
  {
   "cell_type": "code",
   "execution_count": null,
   "metadata": {
    "collapsed": true
   },
   "outputs": [],
   "source": []
  },
  {
   "cell_type": "code",
   "execution_count": null,
   "metadata": {
    "collapsed": true
   },
   "outputs": [],
   "source": []
  },
  {
   "cell_type": "code",
   "execution_count": null,
   "metadata": {
    "collapsed": true
   },
   "outputs": [],
   "source": []
  },
  {
   "cell_type": "code",
   "execution_count": 60,
   "metadata": {
    "collapsed": false
   },
   "outputs": [
    {
     "name": "stdout",
     "output_type": "stream",
     "text": [
      "Great! Number of drawings made by this person: 48\n",
      "Oops, something went wrong! Here is the error:\n",
      "'category'\n"
     ]
    }
   ],
   "source": [
    "for i,g in enumerate(complete_games[:1]):    \n",
    "    image_recs = coll.find({'$and': [{'gameid':g}, {'eventType':'clickedObj'}]}).sort('time')    \n",
    "    num_drawings = image_recs.count()\n",
    "    if num_drawings > 3:\n",
    "        print 'Great! Number of drawings made by this person: {}'.format(image_recs.count())        \n",
    "        ### now try looping through all images made during this session and render out\n",
    "        try:\n",
    "            image_recs = coll.find({'$and': [{'gameid':g}, {'eventType':'clickedObj'}]}).sort('time')    \n",
    "            for imrec in image_recs:       \n",
    "                ## now loop through all the strokes comprising this sketch \n",
    "                stroke_recs = coll.find({'$and': [\n",
    "                                          {'gameid':g}, \n",
    "                                          {'eventType':'stroke'},\n",
    "                                          {'trialNum': imrec['trialNum']}]}).sort('time')  \n",
    "                ## check to make sure that there is at least one stroke! \n",
    "                assert stroke_recs.count()>0\n",
    "\n",
    "                ## some handy metadata for writing out the sketch PNG filename\n",
    "                trial_num = stroke_recs[0]['trialNum']\n",
    "                category = stroke_recs[0]['category']\n",
    "                game_id = stroke_recs[0]['gameid']\n",
    "\n",
    "                ## now make an svg list!\n",
    "                svg_list = srh.make_svg_list(stroke_recs)\n",
    "\n",
    "                ## now get me some verts and codes!\n",
    "                Verts, Codes = srh.get_verts_and_codes(svg_list)\n",
    "\n",
    "#                 ## now render out your cumulative sketches and save out as pngs!\n",
    "#                 srh.render_and_save(Verts,\n",
    "#                                 Codes,\n",
    "#                                 line_width=5,\n",
    "#                                 imsize=8,\n",
    "#                                 canvas_size=600,\n",
    "#                                 game_id=game_id,\n",
    "#                                 trial_num=trial_num,\n",
    "#                                 category=category)\n",
    "\n",
    "        except Exception as e:\n",
    "            print 'Oops, something went wrong! Here is the error:'  \n",
    "            print e\n",
    "            pass"
   ]
  },
  {
   "cell_type": "code",
   "execution_count": null,
   "metadata": {
    "collapsed": true
   },
   "outputs": [],
   "source": []
  },
  {
   "cell_type": "code",
   "execution_count": null,
   "metadata": {
    "collapsed": true
   },
   "outputs": [],
   "source": []
  },
  {
   "cell_type": "code",
   "execution_count": null,
   "metadata": {
    "collapsed": true
   },
   "outputs": [],
   "source": [
    "## now actually make dataframe\n",
    "GameID,TrialNum,Condition, Target, Category, Repetition, Phase, drawDuration, Outcome, Response, numStrokes, meanPixelIntensity, svgStringLength, svgStringLengthPerStroke, svgStringStd, numCurvesPerSketch, numCurvesPerStroke, timedOut, png = map(np.array, \\\n",
    "[GameID,TrialNum,Condition, Target, Category, Repetition, Phase, drawDuration, Outcome, Response, numStrokes, meanPixelIntensity,svgStringLength, svgStringLengthPerStroke, svgStringStd, numCurvesPerSketch, numCurvesPerStroke, timedOut,png])    \n",
    "\n",
    "Repetition = map(int,Repetition)\n",
    "\n",
    "D = pd.DataFrame([GameID,TrialNum,Condition, Target, Category, Repetition, Phase, drawDuration, Outcome, Response, numStrokes, meanPixelIntensity,svgStringLength, svgStringLengthPerStroke, svgStringStd, numCurvesPerSketch, numCurvesPerStroke, timedOut, png], \n",
    "                 index = ['gameID','trialNum','condition', 'target', 'category', 'repetition', 'phase', 'drawDuration', 'outcome', 'response', 'numStrokes', 'meanPixelIntensity', 'svgStringLength', 'svgStringLengthPerStroke', 'svgStringStd', 'numCurvesPerSketch', 'numCurvesPerStroke', 'timedOut', 'png'])\n",
    "D = D.transpose()\n",
    "\n",
    "## save out dataframe to be able to load in and analyze later w/o doing the above mongo querying ...\n",
    "D.to_csv(os.path.join(results_dir,'graphical_conventions_group_data_{}.csv'.format(iterationName)))\n",
    "\n",
    "# Just look at one game \n",
    "#D = D[D['gameID'] == '3511-727c76f4-f755-48e9-8fc8-b61efbe785c9']\n",
    "\n",
    "# Just look at repeated trials and sort them by target and reps \n",
    "# _D = D[(D.condition=='repeated')]\n",
    "# _D = _D.sort_values(by=['target','repetition'])\n",
    "D"
   ]
  },
  {
   "cell_type": "markdown",
   "metadata": {},
   "source": [
    "##### seeing how previous trial accuracy affects numStrokes in the current trial"
   ]
  },
  {
   "cell_type": "code",
   "execution_count": null,
   "metadata": {
    "collapsed": true
   },
   "outputs": [],
   "source": [
    "D.shape[0]"
   ]
  },
  {
   "cell_type": "code",
   "execution_count": null,
   "metadata": {
    "collapsed": true
   },
   "outputs": [],
   "source": [
    "falseNumStrokes = []\n",
    "trueNumStrokes = []\n",
    "for i, d in D.iterrows():\n",
    "    if (i != D.shape[0] - 1):\n",
    "        if d['outcome'] == False:\n",
    "            nextNumStrokes = D['outcome'][i+1]\n",
    "            falseNumStrokes.append(nextNumStrokes)\n",
    "        else:\n",
    "            nextNumStrokes = D['outcome'][i+1]\n",
    "            trueNumStrokes.append(nextNumStrokes)"
   ]
  },
  {
   "cell_type": "code",
   "execution_count": null,
   "metadata": {
    "collapsed": true
   },
   "outputs": [],
   "source": [
    "meanNumStrokesGivenFalse = sum(falseNumStrokes)/float(len(falseNumStrokes))\n",
    "meanNumStrokesGivenTrue =  sum(trueNumStrokes)/float(len(trueNumStrokes))\n",
    "print meanNumStrokesGivenFalse, meanNumStrokesGivenTrue"
   ]
  },
  {
   "cell_type": "code",
   "execution_count": null,
   "metadata": {
    "collapsed": true
   },
   "outputs": [],
   "source": [
    "## adding previous outcomes to each trial \n",
    "previousOutcome = []\n",
    "previousOutcome.append('NaN')\n",
    "for i, d in D.iterrows():\n",
    "    if (i != D.shape[0] - 1):\n",
    "        previousOutcome.append(d['outcome'])\n",
    "D['previousOutcome'] = pd.Series(previousOutcome)"
   ]
  },
  {
   "cell_type": "code",
   "execution_count": null,
   "metadata": {
    "collapsed": true
   },
   "outputs": [],
   "source": [
    "## conditioning on previous trial outcome being true \n",
    "D_true = D[D['previousOutcome'] == True]\n",
    "reload(h)\n",
    "dv = 'numStrokes'\n",
    "h.ts_repeated_control(D_true, \n",
    "                        var=dv,\n",
    "                        numReps = 6,\n",
    "                        limit=10, # recommended limits: 'numStrokes' : 6, 'drawDuration' : 10, 'numCurvesPerSketch' : 20, 'numCurvesPerStroke' : 6 \n",
    "                        save_plot=False,\n",
    "                        plot_dir=plot_dir)"
   ]
  },
  {
   "cell_type": "code",
   "execution_count": null,
   "metadata": {
    "collapsed": true
   },
   "outputs": [],
   "source": []
  },
  {
   "cell_type": "markdown",
   "metadata": {},
   "source": [
    "### confusion matrix for each category"
   ]
  },
  {
   "cell_type": "code",
   "execution_count": null,
   "metadata": {
    "collapsed": true
   },
   "outputs": [],
   "source": [
    "reload(h)"
   ]
  },
  {
   "cell_type": "code",
   "execution_count": null,
   "metadata": {
    "collapsed": true
   },
   "outputs": [],
   "source": [
    "h.get_confusion_matrix(D, 'armchair', 6)"
   ]
  },
  {
   "cell_type": "code",
   "execution_count": null,
   "metadata": {
    "collapsed": true
   },
   "outputs": [],
   "source": [
    "h.get_confusion_matrix(D, 'waiting', 6)"
   ]
  },
  {
   "cell_type": "code",
   "execution_count": null,
   "metadata": {
    "collapsed": true
   },
   "outputs": [],
   "source": [
    "h.get_confusion_matrix(D, 'dining', 6)"
   ]
  },
  {
   "cell_type": "code",
   "execution_count": null,
   "metadata": {
    "collapsed": true
   },
   "outputs": [],
   "source": [
    "h.get_confusion_matrix(D, 'deck', 6)"
   ]
  },
  {
   "cell_type": "code",
   "execution_count": null,
   "metadata": {
    "collapsed": true
   },
   "outputs": [],
   "source": [
    "category = 'waiting'\n",
    "set_size = 6\n",
    "\n",
    "_D = D[D['condition'] == 'repeated']\n",
    "_D = _D[_D['repetition'] >= 5]\n",
    "target_list = _D['target'].tolist()\n",
    "obj_list_ = []\n",
    "obj_list = []\n",
    "objlist = h.CATEGORY_TO_OBJECT_run2[category]\n",
    "for obj in objlist[:set_size*2]:\n",
    "    obj_list_.append(obj)\n",
    "for i in obj_list_:\n",
    "    if i in target_list:\n",
    "        obj_list.append(i)\n",
    "\n",
    "## initialize confusion matrix \n",
    "confusion = np.zeros((len(obj_list), len(obj_list)))\n",
    "\n",
    "## generate confusion matrix by incrementing each cell \n",
    "for i, d in _D.iterrows():\n",
    "    if d['category'] == category:\n",
    "        targ_ind = obj_list.index(d['target'])\n",
    "        chosen_ind = obj_list.index(d['response'])\n",
    "        confusion[targ_ind, chosen_ind] += 1\n",
    "\n",
    "## normalize confusion matrix \n",
    "normed = np.zeros((len(obj_list), len(obj_list)))\n",
    "for i in np.arange(len(confusion)):\n",
    "    normed[i,:] = confusion[i,:]/np.sum(confusion[i,:])\n",
    "\n",
    "## plot confusion matrix \n",
    "from matplotlib import cm\n",
    "fig = plt.figure(figsize=(8,8))\n",
    "ax = plt.subplot(111)\n",
    "cax = ax.matshow(normed,vmin=0,vmax=1,cmap=cm.viridis)\n",
    "plt.xticks(range(len(normed)), obj_list, fontsize=12,rotation='vertical')\n",
    "plt.yticks(range(len(normed)), obj_list, fontsize=12)\n",
    "plt.colorbar(cax,shrink=0.8)\n",
    "plt.tight_layout()\n",
    "#plt.savefig('./plots/confusion_matrix_all.pdf')\n",
    "#plt.close(fig)"
   ]
  },
  {
   "cell_type": "code",
   "execution_count": null,
   "metadata": {
    "collapsed": true
   },
   "outputs": [],
   "source": []
  },
  {
   "cell_type": "code",
   "execution_count": null,
   "metadata": {
    "collapsed": true
   },
   "outputs": [],
   "source": []
  },
  {
   "cell_type": "code",
   "execution_count": null,
   "metadata": {
    "collapsed": true
   },
   "outputs": [],
   "source": []
  },
  {
   "cell_type": "code",
   "execution_count": null,
   "metadata": {
    "collapsed": true
   },
   "outputs": [],
   "source": []
  },
  {
   "cell_type": "code",
   "execution_count": null,
   "metadata": {
    "collapsed": true
   },
   "outputs": [],
   "source": []
  },
  {
   "cell_type": "code",
   "execution_count": null,
   "metadata": {
    "collapsed": true
   },
   "outputs": [],
   "source": []
  },
  {
   "cell_type": "code",
   "execution_count": null,
   "metadata": {
    "collapsed": true
   },
   "outputs": [],
   "source": []
  },
  {
   "cell_type": "code",
   "execution_count": null,
   "metadata": {
    "collapsed": true
   },
   "outputs": [],
   "source": []
  },
  {
   "cell_type": "markdown",
   "metadata": {
    "collapsed": true
   },
   "source": [
    "## visualize behavioral measures over time"
   ]
  },
  {
   "cell_type": "code",
   "execution_count": null,
   "metadata": {
    "collapsed": true
   },
   "outputs": [],
   "source": [
    "# reload analysis_helpers just to be on the safe side \n",
    "reload(h)\n",
    "\n",
    "## set seaborn style params here\n",
    "sns.set_context('poster')\n",
    "sns.set_style('white')"
   ]
  },
  {
   "cell_type": "markdown",
   "metadata": {},
   "source": [
    "##### Accuracy over time"
   ]
  },
  {
   "cell_type": "code",
   "execution_count": null,
   "metadata": {
    "collapsed": true
   },
   "outputs": [],
   "source": [
    "total = 0\n",
    "for outcome in D['outcome']:\n",
    "    total = total + outcome \n",
    "meanAccuracy = total / len(D['outcome'])\n",
    "meanAccuracy"
   ]
  },
  {
   "cell_type": "code",
   "execution_count": null,
   "metadata": {
    "collapsed": true
   },
   "outputs": [],
   "source": [
    "mean_accuracy_list = []\n",
    "for i in range(0,6):\n",
    "    outcome_list = (D.loc[D['repetition'] == i])['outcome']\n",
    "    mean_accuracy = sum(outcome_list) / float(len(outcome_list))\n",
    "    mean_accuracy_list.append(mean_accuracy)\n",
    "D_mean = pd.DataFrame()\n",
    "D_mean['meanAccuracy'] = mean_accuracy_list\n",
    "D_mean['repetition'] = range(0,6)\n",
    "D_mean\n",
    "plt.figure(figsize=(6,6))\n",
    "sns.regplot(data=D_mean,\n",
    "         x='repetition',\n",
    "         y='meanAccuracy',\n",
    "         ci = None)    \n",
    "plt.ylim([0.5,1.0])"
   ]
  },
  {
   "cell_type": "markdown",
   "metadata": {
    "collapsed": true
   },
   "source": [
    "### plot time series during repetition phase "
   ]
  },
  {
   "cell_type": "markdown",
   "metadata": {},
   "source": [
    "##### individual measures across reps (repeated trials only)"
   ]
  },
  {
   "cell_type": "code",
   "execution_count": null,
   "metadata": {
    "collapsed": true
   },
   "outputs": [],
   "source": []
  },
  {
   "cell_type": "code",
   "execution_count": null,
   "metadata": {
    "collapsed": true
   },
   "outputs": [],
   "source": [
    "# What is the measure that you want to visualize across reps? \n",
    "dv = 'numCurvesPerSketch'"
   ]
  },
  {
   "cell_type": "code",
   "execution_count": null,
   "metadata": {
    "collapsed": true
   },
   "outputs": [],
   "source": [
    "# D0 = h.ts_repeated(D,\n",
    "#                                     var=dv,\n",
    "#                                     limit=20, # recommended limits: 'numStrokes' : 6, 'drawDuration' : 10, 'numCurvesPerSketch' : 20, 'numCurvesPerStroke' : 6 \n",
    "#                                     save_plot=False,\n",
    "#                                     plot_dir=plot_dir)"
   ]
  },
  {
   "cell_type": "markdown",
   "metadata": {},
   "source": [
    "##### individual measures across reps (repeated + control)"
   ]
  },
  {
   "cell_type": "code",
   "execution_count": null,
   "metadata": {
    "collapsed": true,
    "scrolled": true
   },
   "outputs": [],
   "source": [
    "reload(h)\n",
    "h.ts_repeated_control(D, \n",
    "                        var=dv,\n",
    "                        numReps = 6,\n",
    "                        limit=40, # recommended limits: 'numStrokes' : 6, 'drawDuration' : 10, 'numCurvesPerSketch' : 20, 'numCurvesPerStroke' : 6 \n",
    "                        save_plot=False,\n",
    "                        plot_dir=plot_dir)"
   ]
  },
  {
   "cell_type": "markdown",
   "metadata": {},
   "source": [
    "##### 4 measures (2x2) across reps (repeated + control) "
   ]
  },
  {
   "cell_type": "code",
   "execution_count": null,
   "metadata": {
    "collapsed": true
   },
   "outputs": [],
   "source": [
    "# What are the four measures that you want to visualize across reps? \n",
    "var0='numStrokes'\n",
    "var1='drawDuration'\n",
    "var2='numCurvesPerSketch'\n",
    "var3='numCurvesPerStroke'"
   ]
  },
  {
   "cell_type": "code",
   "execution_count": null,
   "metadata": {
    "collapsed": true
   },
   "outputs": [],
   "source": [
    "def convert_numeric(X,column_id):\n",
    "    ## make numeric types for aggregation\n",
    "    X[column_id] = pd.to_numeric(X[column_id])\n",
    "    return X\n",
    "\n",
    "###  Subhelper 1\n",
    "\n",
    "def collapse_within_repetition(D, var, condition, numReps):\n",
    "    _D = D[D['condition']==condition]\n",
    "    if condition == 'repeated':\n",
    "        return (_D.groupby(['gameID','repetition','condition','category'])[var].mean()).reset_index()\n",
    "    else: \n",
    "        return ((_D.groupby(['gameID','repetition','condition','category'])[var].mean()).reset_index()).replace(1,numReps-1)\n",
    "\n",
    "\n",
    "D = convert_numeric(convert_numeric(convert_numeric(convert_numeric(D,var0),var1),var2),var3) \n",
    "\n",
    "## collapsing across objects within repetition (within pair) \n",
    "## and only aggregating repeated trials into this sub-dataframe\n",
    "D0 = collapse_within_repetition(D, var0, 'repeated', 6)\n",
    "D1 = collapse_within_repetition(D, var1, 'repeated', 6)\n",
    "D2 = collapse_within_repetition(D, var2, 'repeated', 6)\n",
    "D3 = collapse_within_repetition(D, var3, 'repeated', 6)\n",
    "\n",
    "#fig = plt.figure(figsize=(12,12))\n",
    "fig, ((ax0, ax1), (ax2, ax3)) = plt.subplots(nrows=2, ncols=2, figsize=(10,10))\n",
    "\n",
    "## make sure that the number of timepoints now per gameID is equal to the number of repetitions in the game\n",
    "num_reps = len(np.unique(D.repetition.values))\n",
    "assert D0.groupby('gameID')['gameID'].count()[0]==num_reps    \n",
    "\n",
    "sns.lineplot(data=D0,\n",
    "           x='repetition',\n",
    "           hue='category',\n",
    "           #unit='gameID',\n",
    "           y=var0,\n",
    "           ax=ax0,\n",
    "           legend = False)\n",
    "\n",
    "sns.lineplot(data=D1,\n",
    "           x='repetition',\n",
    "           hue='category',\n",
    "           #unit='gameID',\n",
    "           y=var1,\n",
    "           ax=ax1,\n",
    "           legend = False)\n",
    "\n",
    "sns.lineplot(data=D2,\n",
    "           x='repetition',\n",
    "           hue='category',\n",
    "           #unit='gameID',\n",
    "           y=var2,\n",
    "           ax=ax2,\n",
    "           legend = False)\n",
    "\n",
    "sns.lineplot(data=D3,\n",
    "           x='repetition',\n",
    "           hue='category',\n",
    "           #unit='gameID',\n",
    "           y=var3,\n",
    "           ax=ax3)\n",
    "\n",
    "plt.tight_layout(pad=0.4, w_pad=0.5, h_pad=1.0)\n",
    "plt.xticks(np.arange(np.max(D0['repetition'])+1))\n",
    "ax3.legend(bbox_to_anchor=(1.05, 1), loc=2, borderaxespad=0.)"
   ]
  },
  {
   "cell_type": "code",
   "execution_count": null,
   "metadata": {
    "collapsed": true
   },
   "outputs": [],
   "source": [
    "reload(h)\n",
    "h.ts_grid_repeated_control(D, \n",
    "                                                var0, var1, var2, var3,\n",
    "                                                numReps=6,\n",
    "                                                 save_plot=False,\n",
    "                                                 plot_dir=plot_dir)"
   ]
  },
  {
   "cell_type": "markdown",
   "metadata": {
    "collapsed": true
   },
   "source": [
    "### compare conditions in pre and post phases "
   ]
  },
  {
   "cell_type": "code",
   "execution_count": null,
   "metadata": {
    "collapsed": true
   },
   "outputs": [],
   "source": [
    "D1 = h.compare_conditions_prepost(D,\n",
    "                                var='drawDuration',\n",
    "                                limit=20,\n",
    "                                save_plot=False,\n",
    "                                plot_dir=plot_dir)"
   ]
  },
  {
   "cell_type": "markdown",
   "metadata": {},
   "source": [
    "##### compare accuracy in pre and post phases (repeated vs control conditions)"
   ]
  },
  {
   "cell_type": "code",
   "execution_count": null,
   "metadata": {
    "collapsed": true
   },
   "outputs": [],
   "source": [
    "for i, o in enumerate(D['outcome']):\n",
    "    if o == True:\n",
    "        D.set_value(i, 'outcome', 1)\n",
    "    else:\n",
    "        D.set_value(i, 'outcome', 0)\n",
    "D['outcome'] = D['outcome'].astype(int)"
   ]
  },
  {
   "cell_type": "code",
   "execution_count": null,
   "metadata": {
    "collapsed": true
   },
   "outputs": [],
   "source": [
    "_D1 = D[D['phase']!='repeated'] ## exclude \"repetition-phase\" trials\n",
    "D1 = _D1.groupby(['gameID','phase','condition'])['outcome'].mean()\n",
    "D1 = D1.reset_index()    \n",
    "\n",
    "plt.figure(figsize=(6,6))\n",
    "sns.pointplot(data=D1,\n",
    "         x='phase',\n",
    "         y='outcome',\n",
    "         hue='condition',\n",
    "         order=['pre','post'])    \n",
    "plt.ylim([0,1.1])\n",
    "#plt.savefig(os.path.join(plot_dir,'timeseries_across_reps_{}.pdf'.format(var))) \n",
    "#return D1    "
   ]
  },
  {
   "cell_type": "markdown",
   "metadata": {},
   "source": [
    " ### visualize how sketches are changing across repetitions"
   ]
  },
  {
   "cell_type": "code",
   "execution_count": null,
   "metadata": {
    "collapsed": true
   },
   "outputs": [],
   "source": [
    "# print_repeated_sketches(D,\n",
    "#                                      complete_games,\n",
    "#                                      sketch_dir)"
   ]
  },
  {
   "cell_type": "code",
   "execution_count": null,
   "metadata": {
    "collapsed": true
   },
   "outputs": [],
   "source": [
    "# print_control_sketches(D,\n",
    "#                                    complete_games,\n",
    "#                                    sketch_dir)"
   ]
  },
  {
   "cell_type": "code",
   "execution_count": null,
   "metadata": {
    "collapsed": true
   },
   "outputs": [],
   "source": []
  },
  {
   "cell_type": "code",
   "execution_count": null,
   "metadata": {
    "collapsed": true
   },
   "outputs": [],
   "source": []
  },
  {
   "cell_type": "code",
   "execution_count": null,
   "metadata": {
    "collapsed": true
   },
   "outputs": [],
   "source": []
  },
  {
   "cell_type": "code",
   "execution_count": null,
   "metadata": {
    "collapsed": true
   },
   "outputs": [],
   "source": []
  },
  {
   "cell_type": "markdown",
   "metadata": {},
   "source": [
    "##### printing actual sketches next to repeated sketches"
   ]
  },
  {
   "cell_type": "code",
   "execution_count": null,
   "metadata": {
    "collapsed": true
   },
   "outputs": [],
   "source": [
    "index = list(range(1, 43))\n",
    "new_index = filter(lambda x: x%7!=0, index)"
   ]
  },
  {
   "cell_type": "code",
   "execution_count": null,
   "metadata": {
    "collapsed": true
   },
   "outputs": [],
   "source": [
    "for g in complete_games:\n",
    "    print 'Printing out sketches from game: ' + g\n",
    "    trial_types = ['repeated']\n",
    "    for tt in trial_types:\n",
    "        _D = D[(D.condition=='repeated') & (D.gameID==g)]\n",
    "        all_targs = np.unique(_D.target.values) ## use this later to name the file\n",
    "        _D = _D.sort_values(by=['target','repetition'])\n",
    "        _i = 0\n",
    "        textsize=12\n",
    "        fig = plt.figure(figsize=(10,10))\n",
    "        for i,_d in _D.iterrows():\n",
    "            true_index = new_index[_i]\n",
    "            if _i %6 == 0:\n",
    "                target = _d['target']\n",
    "                dir_path = 'chairs1k_pilot'\n",
    "                png_name = target + '.png'\n",
    "                path = os.path.join(dir_path, png_name)\n",
    "                im = Image.open(path)\n",
    "                cropped_im = im.crop((350, 150, 600, 400))\n",
    "                p = plt.subplot(6,7,true_index+6)\n",
    "                plt.imshow(cropped_im)\n",
    "                sns.set_style('white')\n",
    "                k = p.get_xaxis().set_ticklabels([])\n",
    "                k = p.get_yaxis().set_ticklabels([])\n",
    "                k = p.get_xaxis().set_ticks([])\n",
    "                k = p.get_yaxis().set_ticks([]) \n",
    "            imgData = _d['png']\n",
    "            filestr = base64.b64decode(imgData)\n",
    "            fname = 'sketch.png'\n",
    "            with open(fname, \"wb\") as fh:\n",
    "                fh.write(imgData.decode('base64'))\n",
    "            textsize = 16\n",
    "            # first plot the target\n",
    "            im = Image.open(fname)\n",
    "            p = plt.subplot(6,7,true_index)\n",
    "            plt.imshow(im)\n",
    "            sns.set_style('white')\n",
    "            k = p.get_xaxis().set_ticklabels([])\n",
    "            k = p.get_yaxis().set_ticklabels([])\n",
    "            k = p.get_xaxis().set_ticks([])\n",
    "            k = p.get_yaxis().set_ticks([]) \n",
    "            outcome = _d['outcome']\n",
    "            category = _d['category']\n",
    "            if outcome == 1:\n",
    "                sides = ['bottom','top','right','left']\n",
    "                for s in sides:\n",
    "                    p.spines[s].set_color((0.4,0.8,0.4))\n",
    "                    p.spines[s].set_linewidth(4)                               \n",
    "            else:\n",
    "                sides = ['bottom','top','right','left']\n",
    "                for s in sides:\n",
    "                    p.spines[s].set_color((0.9,0.2,0.2))\n",
    "                    p.spines[s].set_linewidth(4)    \n",
    "            if (_i < 6) & (tt in 'repeated'): \n",
    "                plt.title('rep ' + str(_d['repetition']) ,fontsize=textsize)\n",
    "            if _i%6==0:\n",
    "                plt.ylabel(_d['target'] ,fontsize=textsize)\n",
    "            \n",
    "                \n",
    "\n",
    "            _i  = _i + 1\n",
    "\n",
    "        filepath = os.path.join(sketch_dir,'repeated','{}_{}.pdf'.format(g,category))                                                                \n",
    "        if not os.path.exists(os.path.join(sketch_dir,'repeated')):\n",
    "            os.makedirs(os.path.join(sketch_dir,'repeated'))\n",
    "        plt.tight_layout()"
   ]
  },
  {
   "cell_type": "code",
   "execution_count": null,
   "metadata": {
    "collapsed": true
   },
   "outputs": [],
   "source": [
    "D_ = D[(D.condition=='control') & (D.gameID=='9276-b328e584-c3fb-4a8f-b5a9-1b5f88292993')]\n",
    "D__ = D_[(D_.phase == 'post')]\n",
    "D__['outcome']"
   ]
  },
  {
   "cell_type": "markdown",
   "metadata": {},
   "source": [
    "##### printing last sketch of control condition next to repeated sketches "
   ]
  },
  {
   "cell_type": "code",
   "execution_count": null,
   "metadata": {
    "collapsed": true
   },
   "outputs": [],
   "source": [
    "for g in complete_games:\n",
    "    print 'Printing out sketches from game: ' + g\n",
    "    trial_types = ['repeated']\n",
    "    for tt in trial_types:\n",
    "        _D = D[(D.condition=='repeated') & (D.gameID==g)]\n",
    "        D_ = D[(D.condition=='control') & (D.gameID==g)]\n",
    "        all_targs = np.unique(_D.target.values) ## use this later to name the file\n",
    "        _D = _D.sort_values(by=['target','repetition'])\n",
    "        _i = 0\n",
    "        control_index = 0\n",
    "        textsize=12\n",
    "        fig = plt.figure(figsize=(10,10))\n",
    "        for i,_d in _D.iterrows():\n",
    "            true_index = new_index[_i]\n",
    "            if _i %6 == 0:\n",
    "                # plot last of control sketch \n",
    "                target = _d['target']\n",
    "                D__ = D_[D_.phase == 'post']\n",
    "                imgData = D__['png'].iloc[control_index]\n",
    "                filestr = base64.b64decode(imgData)\n",
    "                fname = 'sketch.png'\n",
    "                with open(fname, \"wb\") as fh:\n",
    "                    fh.write(imgData.decode('base64'))\n",
    "                textsize = 16\n",
    "                # first plot the target\n",
    "                im = Image.open(fname)\n",
    "                p = plt.subplot(6,7,true_index+6)\n",
    "                plt.imshow(im)\n",
    "                if (_i < 6):\n",
    "                    plt.title('control' ,fontsize=textsize)\n",
    "                sns.set_style('white')\n",
    "                k = p.get_xaxis().set_ticklabels([])\n",
    "                k = p.get_yaxis().set_ticklabels([])\n",
    "                k = p.get_xaxis().set_ticks([])\n",
    "                k = p.get_yaxis().set_ticks([]) \n",
    "                outcome = D__['outcome'].iloc[control_index]\n",
    "                if outcome == 1:\n",
    "                    sides = ['bottom','top','right','left']\n",
    "                    for s in sides:\n",
    "                        p.spines[s].set_color((0.4,0.8,0.4))\n",
    "                        p.spines[s].set_linewidth(4)                               \n",
    "                else:\n",
    "                    sides = ['bottom','top','right','left']\n",
    "                    for s in sides:\n",
    "                        p.spines[s].set_color((0.9,0.2,0.2))\n",
    "                        p.spines[s].set_linewidth(4)    \n",
    "            imgData = _d['png']\n",
    "            filestr = base64.b64decode(imgData)\n",
    "            fname = 'sketch.png'\n",
    "            with open(fname, \"wb\") as fh:\n",
    "                fh.write(imgData.decode('base64'))\n",
    "            textsize = 16\n",
    "            # first plot the target\n",
    "            im = Image.open(fname)\n",
    "            p = plt.subplot(6,7,true_index)\n",
    "            plt.imshow(im)\n",
    "            sns.set_style('white')\n",
    "            k = p.get_xaxis().set_ticklabels([])\n",
    "            k = p.get_yaxis().set_ticklabels([])\n",
    "            k = p.get_xaxis().set_ticks([])\n",
    "            k = p.get_yaxis().set_ticks([]) \n",
    "            outcome = _d['outcome']\n",
    "            category = _d['category']\n",
    "            if outcome == 1:\n",
    "                sides = ['bottom','top','right','left']\n",
    "                for s in sides:\n",
    "                    p.spines[s].set_color((0.4,0.8,0.4))\n",
    "                    p.spines[s].set_linewidth(4)                               \n",
    "            else:\n",
    "                sides = ['bottom','top','right','left']\n",
    "                for s in sides:\n",
    "                    p.spines[s].set_color((0.9,0.2,0.2))\n",
    "                    p.spines[s].set_linewidth(4)    \n",
    "            if (_i < 6) & (tt in 'repeated'): \n",
    "                plt.title('rep ' + str(_d['repetition']) ,fontsize=textsize)\n",
    "            if _i%6==0:\n",
    "                plt.ylabel(_d['target'] ,fontsize=textsize)\n",
    "                control_index = control_index + 1\n",
    "                \n",
    "            _i  = _i + 1\n",
    "\n",
    "        filepath = os.path.join(sketch_dir,'repeated','{}_{}.pdf'.format(g,category))                                                                \n",
    "        if not os.path.exists(os.path.join(sketch_dir,'repeated')):\n",
    "            os.makedirs(os.path.join(sketch_dir,'repeated'))\n",
    "        plt.tight_layout()"
   ]
  },
  {
   "cell_type": "code",
   "execution_count": null,
   "metadata": {
    "collapsed": true
   },
   "outputs": [],
   "source": []
  },
  {
   "cell_type": "markdown",
   "metadata": {},
   "source": [
    "##### printing control sketches"
   ]
  },
  {
   "cell_type": "code",
   "execution_count": null,
   "metadata": {
    "collapsed": true
   },
   "outputs": [],
   "source": [
    "_valid_gameids = complete_games\n",
    "\n",
    "for g in _valid_gameids:\n",
    "    print 'Printing out sketches from game: ' + g\n",
    "    trial_types = ['control']\n",
    "    for tt in trial_types:\n",
    "        _D = D[(D.condition=='control') & (D.gameID==g)]\n",
    "        all_targs = np.unique(_D.target.values) ## use this later to name the file\n",
    "        _D = _D.sort_values(by=['target','repetition'])\n",
    "        _i = 1\n",
    "        textsize=12\n",
    "        fig = plt.figure(figsize=(5,10))\n",
    "        for i,_d in _D.iterrows():\n",
    "            imgData = _d['png']\n",
    "            filestr = base64.b64decode(imgData)\n",
    "            fname = 'sketch.png'\n",
    "            with open(fname, \"wb\") as fh:\n",
    "                fh.write(imgData.decode('base64'))\n",
    "            textsize = 16\n",
    "            # first plot the target\n",
    "            im = Image.open(fname)\n",
    "            p = plt.subplot(6,2,_i)\n",
    "            plt.imshow(im)\n",
    "            sns.set_style('white')\n",
    "            k = p.get_xaxis().set_ticklabels([])\n",
    "            k = p.get_yaxis().set_ticklabels([])\n",
    "            k = p.get_xaxis().set_ticks([])\n",
    "            k = p.get_yaxis().set_ticks([]) \n",
    "            outcome = _d['outcome']\n",
    "            category = _d['category']\n",
    "            if outcome == 1:\n",
    "                sides = ['bottom','top','right','left']\n",
    "                for s in sides:\n",
    "                    p.spines[s].set_color((0.4,0.8,0.4))\n",
    "                    p.spines[s].set_linewidth(4)                               \n",
    "            else:\n",
    "                sides = ['bottom','top','right','left']\n",
    "                for s in sides:\n",
    "                    p.spines[s].set_color((0.9,0.2,0.2))\n",
    "                    p.spines[s].set_linewidth(4)    \n",
    "            if (_i-1 < 2) & (tt in 'control'): \n",
    "                plt.title('rep ' + str(_d['repetition']) ,fontsize=textsize)\n",
    "            if (_i-1)%2==0:\n",
    "                plt.ylabel(_d['target'] ,fontsize=textsize)\n",
    "\n",
    "            _i  = _i + 1\n",
    "\n",
    "        filepath = os.path.join(sketch_dir,'control','{}_{}.pdf'.format(g,category))     \n",
    "        if not os.path.exists(os.path.join(sketch_dir,'control')):\n",
    "            os.makedirs(os.path.join(sketch_dir,'control'))\n",
    "        #plt.savefig(os.path.join(sketch_dir,'control',filepath))\n",
    "        #plt.close(fig)"
   ]
  },
  {
   "cell_type": "code",
   "execution_count": null,
   "metadata": {
    "collapsed": true
   },
   "outputs": [],
   "source": []
  },
  {
   "cell_type": "code",
   "execution_count": null,
   "metadata": {
    "collapsed": true
   },
   "outputs": [],
   "source": []
  },
  {
   "cell_type": "code",
   "execution_count": null,
   "metadata": {
    "collapsed": true
   },
   "outputs": [],
   "source": []
  },
  {
   "cell_type": "code",
   "execution_count": null,
   "metadata": {
    "collapsed": true
   },
   "outputs": [],
   "source": []
  },
  {
   "cell_type": "code",
   "execution_count": null,
   "metadata": {
    "collapsed": true
   },
   "outputs": [],
   "source": []
  },
  {
   "cell_type": "code",
   "execution_count": null,
   "metadata": {
    "collapsed": true
   },
   "outputs": [],
   "source": []
  },
  {
   "cell_type": "code",
   "execution_count": null,
   "metadata": {
    "collapsed": true
   },
   "outputs": [],
   "source": []
  },
  {
   "cell_type": "code",
   "execution_count": null,
   "metadata": {
    "collapsed": true
   },
   "outputs": [],
   "source": []
  },
  {
   "cell_type": "code",
   "execution_count": null,
   "metadata": {
    "collapsed": true
   },
   "outputs": [],
   "source": []
  },
  {
   "cell_type": "code",
   "execution_count": null,
   "metadata": {
    "collapsed": true
   },
   "outputs": [],
   "source": []
  },
  {
   "cell_type": "markdown",
   "metadata": {
    "collapsed": true
   },
   "source": [
    "### WORKING AREA"
   ]
  },
  {
   "cell_type": "code",
   "execution_count": null,
   "metadata": {
    "collapsed": true
   },
   "outputs": [],
   "source": [
    "## collapsing across objects within repetition (within pair) \n",
    "D0_repeated = (D_repeated.groupby(['gameID','repetition','condition'])[var0].mean()).reset_index()\n",
    "D1_repeated = (D_repeated.groupby(['gameID','repetition','condition'])[var1].mean()).reset_index()\n",
    "D2_repeated = (D_repeated.groupby(['gameID','repetition','condition'])[var2].mean()).reset_index()\n",
    "D3_repeated = (D_repeated.groupby(['gameID','repetition','condition'])[var3].mean()).reset_index()\n",
    "\n",
    "D0_control = ((D_control.groupby(['gameID','repetition','condition'])[var0].mean()).reset_index()).replace(1, 7) # rescale control reps \n",
    "D1_control = ((D_control.groupby(['gameID','repetition','condition'])[var1].mean()).reset_index()).replace(1, 7) # rescale control reps \n",
    "D2_control = ((D_control.groupby(['gameID','repetition','condition'])[var2].mean()).reset_index()).replace(1, 7) # rescale control reps \n",
    "D3_control = ((D_control.groupby(['gameID','repetition','condition'])[var3].mean()).reset_index()).replace(1, 7) # rescale control reps "
   ]
  },
  {
   "cell_type": "code",
   "execution_count": null,
   "metadata": {
    "collapsed": true
   },
   "outputs": [],
   "source": [
    "\n",
    "# sns.tsplot(data=D0_repeated,\n",
    "#            time='repetition',\n",
    "#            unit='gameID',\n",
    "#            value=var0,\n",
    "#            ax=ax0)\n",
    "\n",
    "# sns.tsplot(data=D0_control,\n",
    "#                time='repetition',\n",
    "#                unit='gameID',\n",
    "#                value=var0,\n",
    "#                err_style='ci_bars',\n",
    "#                interpolate=False,\n",
    "#                ax=ax0,\n",
    "#                color='r')\n",
    "\n",
    "# sns.tsplot(data=D1_repeated,\n",
    "#            time='repetition',\n",
    "#            unit='gameID',\n",
    "#            value=var1,\n",
    "#            ax=ax1)\n",
    "\n",
    "# sns.tsplot(data=D1_control,\n",
    "#                time='repetition',\n",
    "#                unit='gameID',\n",
    "#                value=var1,\n",
    "#                err_style='ci_bars',\n",
    "#                interpolate=False,\n",
    "#                ax=ax1,\n",
    "#                color='r')\n",
    "\n",
    "# sns.tsplot(data=D2_repeated,\n",
    "#            time='repetition',\n",
    "#            unit='gameID',\n",
    "#            value=var2,\n",
    "#            ax=ax2)\n",
    "\n",
    "# sns.tsplot(data=D2_control,\n",
    "#                time='repetition',\n",
    "#                unit='gameID',\n",
    "#                value=var2,\n",
    "#                err_style='ci_bars',\n",
    "#                interpolate=False,\n",
    "#                ax=ax2,\n",
    "#                color='r')\n",
    "\n",
    "# sns.tsplot(data=D3_repeated,\n",
    "#            time='repetition',\n",
    "#            unit='gameID',\n",
    "#            value=var3,\n",
    "#            ax=ax3)\n",
    "\n",
    "# sns.tsplot(data=D3_control,\n",
    "#                time='repetition',\n",
    "#                unit='gameID',\n",
    "#                value=var3,\n",
    "#                err_style='ci_bars',\n",
    "#                interpolate=False,\n",
    "#                ax=ax3,\n",
    "#                color='r')\n",
    "\n",
    "# plt.tight_layout(pad=0.4, w_pad=0.5, h_pad=1.0)\n",
    "# ax0.set(xlim=(-0.5, 7.5), xticks=range(0,8))\n",
    "# ax1.set(xlim=(-0.5, 7.5), xticks=range(0,8))\n",
    "# ax2.set(xlim=(-0.5, 7.5), xticks=range(0,8))\n",
    "# ax3.set(xlim=(-0.5, 7.5), xticks=range(0,8))"
   ]
  },
  {
   "cell_type": "code",
   "execution_count": null,
   "metadata": {
    "collapsed": true
   },
   "outputs": [],
   "source": [
    "# for i in range(0, 4):\n",
    "#     var = 'var'+ i\n",
    "#     print var\n",
    "#     'D' + str(i) + '_' + condition = collapse_within_repetition(D, var, condition)"
   ]
  },
  {
   "cell_type": "code",
   "execution_count": null,
   "metadata": {
    "collapsed": true
   },
   "outputs": [],
   "source": [
    "def convert_numeric(X,column_id):\n",
    "    ## make numeric types for aggregation\n",
    "    X[column_id] = pd.to_numeric(X[column_id])\n",
    "    return X\n",
    "\n",
    "D = convert_numeric(convert_numeric(convert_numeric(convert_numeric(D,var0),var1),var2),var3) \n",
    "\n",
    "def collapse_within_repetition(D, var, condition):\n",
    "    _D = D[D['condition']==condition]\n",
    "    if condition == 'repeated':\n",
    "        return (_D.groupby(['gameID','repetition','condition'])[var].mean()).reset_index()\n",
    "    else: \n",
    "        return ((_D.groupby(['gameID','repetition','condition'])[var].mean()).reset_index()).replace(1,7)\n",
    "    \n",
    "def plot_repeated_control(D_repeated, D_control, var, ax):\n",
    "    sns.tsplot(data=D_repeated,\n",
    "           time='repetition',\n",
    "           unit='gameID',\n",
    "           value=var,\n",
    "           ax=ax)\n",
    "\n",
    "    sns.tsplot(data=D_control,\n",
    "               time='repetition',\n",
    "               unit='gameID',\n",
    "               value=var,\n",
    "               err_style='ci_bars',\n",
    "               interpolate=False,\n",
    "               ax=ax,\n",
    "               color='r')\n",
    "    \n",
    "    ax.set(xlim=(-0.5, 7.5), xticks=range(0,8))"
   ]
  },
  {
   "cell_type": "code",
   "execution_count": null,
   "metadata": {
    "collapsed": true
   },
   "outputs": [],
   "source": [
    "_newD = pd.DataFrame()\n",
    "\n",
    "target = d['target']\n",
    "link = 'https://s3.amazonaws.com/shapenet-graphical-conventions/52f0514f5c38bc96f51f77a6d7299806.png'\n",
    "extra_row = [link] * D.shape[1]\n",
    "extra_df = pd.DataFrame(extra_row, index = list(D.columns.values))\n",
    "extra_df = extra_df.transpose()\n",
    "extra_df\n",
    "\n",
    "_newD = pd.concat([_newD, extra_df])"
   ]
  },
  {
   "cell_type": "code",
   "execution_count": null,
   "metadata": {
    "collapsed": true
   },
   "outputs": [],
   "source": [
    "newD = pd.DataFrame()\n",
    "for i, d in D.iterrows():\n",
    "    d = d.to_frame()\n",
    "    d = d.transpose()\n",
    "    if i%6 == 0 & i != 0:\n",
    "        newD = pd.concat([newD, d])\n",
    "        target = d['target']\n",
    "        link = 'https://s3.amazonaws.com/shapenet-graphical-conventions/52f0514f5c38bc96f51f77a6d7299806.png'\n",
    "        extra_row = [link] * D.shape[1]\n",
    "        extra_df = pd.DataFrame(extra_row, index = list(D.columns.values))\n",
    "        extra_df = extra_df.transpose()\n",
    "        newD = pd.concat([newD, extra_df])\n",
    "    else:\n",
    "        newD = pd.concat([newD, d])"
   ]
  },
  {
   "cell_type": "code",
   "execution_count": null,
   "metadata": {
    "collapsed": true
   },
   "outputs": [],
   "source": []
  },
  {
   "cell_type": "markdown",
   "metadata": {},
   "source": [
    "# Miscellaneous"
   ]
  },
  {
   "cell_type": "code",
   "execution_count": null,
   "metadata": {
    "collapsed": true
   },
   "outputs": [],
   "source": [
    "#seaborn plotting\n",
    "\n",
    "d = pd.DataFrame()\n",
    "numReps = 7\n",
    "variable = 'numStrokes'\n",
    "# repeated conditions \n",
    "criteria_repeated = (D['condition']=='repeated')\n",
    "repeated = D[criteria_repeated] # get all repeated condition trials \n",
    "repeats = list(range(0, numReps)) # number of repeats\n",
    "repeated_means = []\n",
    "for rep in repeats:\n",
    "    mean = ((repeated[(repeated['repetition'] == rep)])[variable]).mean()  # get mean across trials with same repetition number\n",
    "    repeated_means.append(mean)\n",
    "\n",
    "# control conditions \n",
    "criteria_control = (D['condition']=='control')\n",
    "control = D[criteria_control] # get all control condition trials \n",
    "controls = [0, numReps - 1] # number of controls scaled up to total number of repeats \n",
    "control_means= []\n",
    "for i in [0, 1]: # only 2 controls, but should scale up to numReps \n",
    "    mean = ((control[(control['repetition'] == i)])[variable]).mean() # get mean across trials with same repetition number\n",
    "    control_means.append(mean)\n",
    "\n",
    "d['numReps'] = repeats\n",
    "d[variable] = repeated_means\n",
    "#d['control'] = control_means\n",
    "facet = sns.lmplot(data=d, x='numReps', y=variable, fit_reg=False)\n",
    "# add error bars "
   ]
  },
  {
   "cell_type": "code",
   "execution_count": null,
   "metadata": {
    "collapsed": true
   },
   "outputs": [],
   "source": []
  },
  {
   "cell_type": "code",
   "execution_count": null,
   "metadata": {
    "collapsed": true
   },
   "outputs": [],
   "source": [
    "print repeated_strokes.mean(), control_strokes.mean()\n",
    "print repeated_svgLength.mean(), control_svgLength.mean()\n",
    "print repeated_svgStd.mean(), control_svgStd.mean()\n",
    "print repeated_svgLengthPS.mean(), control_svgLengthPS.mean()\n",
    "print repeated_drawDuration.mean(), control_drawDuration.mean()\n",
    "print repeated_accuracy.mean(), control_accuracy.mean()"
   ]
  },
  {
   "cell_type": "code",
   "execution_count": null,
   "metadata": {
    "collapsed": true
   },
   "outputs": [],
   "source": [
    "fig = plt.figure(figsize=(10,10))\n",
    "plt.subplot(2,2,1)\n",
    "lb = 0\n",
    "ub = 16\n",
    "plt.plot([lb,ub],[lb,ub],'k--')\n",
    "plt.scatter(control_strokes,repeated_strokes,64,(0.8,0.4,0.4))\n",
    "plt.xlim([lb,ub])\n",
    "plt.ylim([lb,ub])\n",
    "plt.title('number of strokes')\n",
    "plt.xlabel('control')\n",
    "plt.ylabel('repeated')\n",
    "plt.subplot(2,2,2)\n",
    "lb = 0\n",
    "ub = 3000\n",
    "plt.plot([lb,ub],[lb,ub],'k--')\n",
    "plt.scatter(control_svgLength,repeated_svgLength,64,(0.8,0.4,0.4))\n",
    "plt.xlim([lb,ub])\n",
    "plt.ylim([lb,ub])\n",
    "plt.tight_layout()\n",
    "plt.title('svg string length')\n",
    "plt.xlabel('control')\n",
    "plt.ylabel('repeated')\n",
    "plt.subplot(2,2,3)\n",
    "lb = 0\n",
    "ub = 300\n",
    "plt.plot([lb,ub],[lb,ub],'k--')\n",
    "plt.scatter(control_svgStd,repeated_svgStd,64,(0.8,0.4,0.4))\n",
    "plt.xlim([lb,ub])\n",
    "plt.ylim([lb,ub])\n",
    "plt.title('stroke variability')\n",
    "plt.xlabel('control')\n",
    "plt.ylabel('repeated')\n",
    "plt.subplot(2,2,4)\n",
    "lb = 0\n",
    "ub = 600\n",
    "plt.plot([lb,ub],[lb,ub],'k--')\n",
    "plt.scatter(control_svgLengthPS,repeated_svgLengthPS,64,(0.8,0.4,0.4))\n",
    "plt.xlim([lb,ub])\n",
    "plt.ylim([lb,ub])\n",
    "plt.tight_layout()\n",
    "plt.title('svg length per stroke')\n",
    "plt.xlabel('control')\n",
    "plt.ylabel('repeated')"
   ]
  },
  {
   "cell_type": "code",
   "execution_count": null,
   "metadata": {
    "collapsed": true
   },
   "outputs": [],
   "source": [
    "a = coll.find({ '$and': [{'iterationName':iterationName}, {'eventType': 'clickedObj'}, {'time':{'$gt':1531160581750, '$lt': 1531161932801}}]}).sort('time')\n",
    "for rec in a:\n",
    "    print rec['phase'], rec['condition'],rec['repetition']"
   ]
  },
  {
   "cell_type": "code",
   "execution_count": null,
   "metadata": {
    "collapsed": true
   },
   "outputs": [],
   "source": []
  },
  {
   "cell_type": "code",
   "execution_count": null,
   "metadata": {
    "collapsed": true
   },
   "outputs": [],
   "source": []
  }
 ],
 "metadata": {
  "kernelspec": {
   "display_name": "Python 2",
   "language": "python",
   "name": "python2"
  },
  "language_info": {
   "codemirror_mode": {
    "name": "ipython",
    "version": 2
   },
   "file_extension": ".py",
   "mimetype": "text/x-python",
   "name": "python",
   "nbconvert_exporter": "python",
   "pygments_lexer": "ipython2",
   "version": "2.7.13"
  }
 },
 "nbformat": 4,
 "nbformat_minor": 1
}
