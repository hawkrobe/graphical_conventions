{
 "cells": [
  {
   "cell_type": "markdown",
   "id": "0f7ec95e",
   "metadata": {},
   "source": [
    "# explore sketch object similarities\n",
    "\n",
    "The purpose of this notebook is to:\n",
    "* Measure how much more similar successive sketches of the SAME object are than sketches of DIFFERENT objects drawn in consecutive repetitions\n",
    "* Measure how much more similar sketches of the SAME object are within a repetition (a proxy for resemblance) than arbitrarily sampled sketches from within a repetition. Examine how this similarity changes over time. "
   ]
  },
  {
   "cell_type": "code",
   "execution_count": 1,
   "id": "e31c4649",
   "metadata": {},
   "outputs": [],
   "source": [
    "import os, sys\n",
    "import shutil\n",
    "## add helpers to python path\n",
    "if os.path.join('..','helpers') not in sys.path:\n",
    "    sys.path.append(os.path.join('..','helpers'))\n",
    "\n",
    "from embeddings import *\n",
    "from extract_features import *\n",
    "    \n",
    "import pymongo as pm\n",
    "import numpy as np\n",
    "import scipy.stats as stats\n",
    "import pandas as pd\n",
    "import json\n",
    "import requests\n",
    "import re\n",
    "from io import BytesIO\n",
    "from PIL import Image, ImageFilter\n",
    "import object_mask_utils as u\n",
    "import socket\n",
    "import glob\n",
    "from scipy.stats import entropy\n",
    "\n",
    "import matplotlib\n",
    "from matplotlib import pylab, mlab, pyplot\n",
    "%matplotlib inline\n",
    "from IPython.core.pylabtools import figsize, getfigs\n",
    "plt = pyplot\n",
    "import seaborn as sns\n",
    "sns.set_context('talk')\n",
    "sns.set_style('white')\n",
    "\n",
    "from skimage import io, img_as_float\n",
    "import base64\n",
    "\n",
    "from IPython.core.pylabtools import figsize, getfigs\n",
    "\n",
    "from IPython.display import clear_output\n",
    "import importlib\n",
    "import time\n",
    "\n",
    "from collections import Counter\n",
    "import operator\n",
    "\n",
    "import warnings\n",
    "warnings.filterwarnings(\"ignore\", category=DeprecationWarning)\n",
    "warnings.filterwarnings(\"ignore\", message=\"numpy.dtype size changed\")\n",
    "warnings.filterwarnings(\"ignore\", message=\"numpy.ufunc size changed\")"
   ]
  },
  {
   "cell_type": "markdown",
   "id": "31866e77",
   "metadata": {},
   "source": [
    "### setup paths"
   ]
  },
  {
   "cell_type": "code",
   "execution_count": 2,
   "id": "a9269c9f",
   "metadata": {},
   "outputs": [],
   "source": [
    "## which experiment do you want to analyze? options: refgame1.2, refgame2.0\n",
    "curr_exp = 'refgame1.2'\n",
    "\n",
    "## directory & file hierarchy\n",
    "proj_dir = os.path.abspath('../../')\n",
    "analysis_dir = os.getcwd()\n",
    "data_dir = os.path.join(proj_dir,'data')\n",
    "experiment_dir = os.path.join(data_dir, 'experiment', curr_exp)\n",
    "feat_dir = os.path.join(data_dir, 'features', curr_exp)\n",
    "\n",
    "## paths to visual features & metadata\n",
    "path_to_feats = os.path.join(feat_dir, 'FEATURES_vgg_FC6.npy')\n",
    "path_to_meta = os.path.join(feat_dir, 'METADATA.csv')\n",
    "\n",
    "## import dictionaries that map between shapenet ids and graphical conventions naming scheme\n",
    "importlib.reload(u)\n",
    "G2S = u.GC2SHAPENET\n",
    "S2G = u.SHAPENET2GC"
   ]
  },
  {
   "cell_type": "markdown",
   "id": "d2c5bd91",
   "metadata": {},
   "source": [
    "## Measure how much more similar successive sketches of the SAME object are than sketches of DIFFERENT objects drawn in consecutive repetitions\n",
    "To do this analysis, we either conduct a \"direct\" analysis addressing this question: how much more strongly drawings of Chair A \"resemble\" Chair A than they resemble Chair B. OR we conduct an \"indirect\" analysis asking how much more strongly drawings of Chair A are similar to one another than are drawings of Chair B. Further, we ask if Repetition 1 drawings display STRONGER resemblance than Repetition 8 drawings – validating the notion that resemblance goes down over time."
   ]
  },
  {
   "cell_type": "markdown",
   "id": "20e53686",
   "metadata": {},
   "source": [
    "#### extract VGG features for each of the object stimuli"
   ]
  },
  {
   "cell_type": "code",
   "execution_count": 3,
   "id": "bba631ab",
   "metadata": {},
   "outputs": [
    {
     "name": "stdout",
     "output_type": "stream",
     "text": [
      "Number of candidate stimuli we originally considered: 55\n",
      "Number of actual stimuli we used: 16\n"
     ]
    }
   ],
   "source": [
    "## path to object images\n",
    "path_to_actual_stims = os.path.join(data_dir, 'stimuli','actual')\n",
    "path_to_candidate_stims = os.path.join(data_dir, 'stimuli','candidate')\n",
    "stim_list_shapenet = ['{}.png'.format(i) for i in list(S2G.keys())]\n",
    "\n",
    "## get paths of all candidate stimuli\n",
    "candidate_image_paths = sorted(list_files(path_to_candidate_stims,'png'))\n",
    "print('Number of candidate stimuli we originally considered: {}'.format(len(candidate_image_paths)))\n",
    "\n",
    "## only copy over those candidate stims that were actually used in our experiment\n",
    "for this_candidate_stim in candidate_image_paths:\n",
    "    if this_candidate_stim.split('/')[-1] in stim_list_shapenet:\n",
    "        shutil.copyfile(this_candidate_stim, os.path.join(path_to_actual_stims,this_candidate_stim.split('/')[-1]))\n",
    "        \n",
    "## get paths to all actual stimuli\n",
    "actual_image_paths = sorted(list_files(path_to_actual_stims,'png'))\n",
    "print('Number of actual stimuli we used: {}'.format(len(actual_image_paths)))"
   ]
  },
  {
   "cell_type": "code",
   "execution_count": 4,
   "id": "59e797de",
   "metadata": {},
   "outputs": [
    {
     "name": "stdout",
     "output_type": "stream",
     "text": [
      "stopped!\n",
      "Saved features and meta out!\n",
      "['FEATURES_vgg_5.npy', 'METADATA.csv']\n"
     ]
    }
   ],
   "source": [
    "## instantiate feature extractor class\n",
    "layer_name = 5\n",
    "data_type = 'images'\n",
    "extractor = FeatureExtractor(actual_image_paths,layer=layer_name,\n",
    "                             data_type=data_type,\n",
    "                             use_cuda = torch.cuda.is_available())\n",
    "\n",
    "## extract features & metadata\n",
    "features, paths = extractor.extract_feature_matrix()\n",
    "meta = pd.DataFrame({'path' : list(flatten_list(paths))})\n",
    "\n",
    "## define directory to save features out to\n",
    "obj_feat_out_dir = os.path.join(data_dir, 'features','stimuli')\n",
    "if not os.path.exists(obj_feat_out_dir):\n",
    "    os.makedirs(obj_feat_out_dir)\n",
    "features_fname = 'FEATURES_vgg_{}'.format(layer_name)\n",
    "\n",
    "## save out features and meta\n",
    "np.save(os.path.join(obj_feat_out_dir,'{}.npy'.format(features_fname)), \n",
    "        features)\n",
    "meta.to_csv(os.path.join(obj_feat_out_dir,'METADATA.csv'), \n",
    "            index=True, \n",
    "            index_label='feature_ind')\n",
    "\n",
    "print('Saved features and meta out!')\n",
    "print(os.listdir(obj_feat_out_dir))"
   ]
  },
  {
   "cell_type": "code",
   "execution_count": 5,
   "id": "1938d7b9",
   "metadata": {},
   "outputs": [],
   "source": [
    "## load in sketch features (pre-extracted earlier)\n",
    "F_sketch = np.load(path_to_feats)\n",
    "M_sketch = pd.read_csv(path_to_meta)\n",
    "\n",
    "## rename object features (extracted above)\n",
    "F_obj = features\n",
    "M_obj = meta"
   ]
  },
  {
   "cell_type": "code",
   "execution_count": 6,
   "id": "ddbcddd0",
   "metadata": {},
   "outputs": [],
   "source": [
    "## APPLY PREPROCESSING TO THE SKETCH METADATA\n",
    "\n",
    "## add gameID, repetition number, and object ID information\n",
    "for ind, row in M_sketch.iterrows():\n",
    "    path_pieces = row['path'].split('/')\n",
    "    fname = path_pieces[-1]\n",
    "    objectID = fname.split('_')[1] + '_' + fname.split('_')[2] \n",
    "    shapenetID = G2S[objectID]\n",
    "    M_sketch.loc[ind,'gameID'] = fname.split('_')[0]\n",
    "    M_sketch.loc[ind,'repetition_number'] = fname.split('.')[0].split('_')[-1]\n",
    "    M_sketch.loc[ind,'objectID'] = objectID\n",
    "    M_sketch.loc[ind,'shapenetID'] = shapenetID\n",
    "    \n",
    "## add condition information\n",
    "for name, group in M_sketch.groupby(['gameID', 'objectID']):\n",
    "    num_instances = group.shape[0] ## how many times is this object drawn in that game? if 2, then control condition; if 8, then repeated condidtion\n",
    "    if num_instances == 2: ## control condition\n",
    "        M_sketch.loc[(M_sketch['gameID']==name[0]) & (M_sketch['objectID']==name[1]),'condition'] = 'control'\n",
    "    elif num_instances == 8: ## repeated condition \n",
    "        M_sketch.loc[(M_sketch['gameID']==name[0]) & (M_sketch['objectID']==name[1]),'condition'] = 'repeated'        \n",
    "    else:\n",
    "        print('Something went wrong with the number of sketches!')\n",
    "        \n",
    "## add phase information\n",
    "for name, group in M_sketch.groupby(['gameID', 'objectID']):\n",
    "    ## initialize all phase to \"repeated\" then overwrite the first and last with \"pre\" and \"post\" labels, respectively\n",
    "    M_sketch.loc[(M_sketch['gameID']==name[0]) & (M_sketch['objectID']==name[1]),'phase'] = 'repeated'\n",
    "    ## when repetition number is '00', you know that it is the pretest for ALL drawings in both conditions\n",
    "    M_sketch.loc[(M_sketch['gameID']==name[0]) & (M_sketch['objectID']==name[1]) & (M_sketch['repetition_number']=='00'),'phase'] = 'pre'\n",
    "    ## for the repeated condition, the post phase repetition is '07'; for the control condition, the post phase repetition is '01'\n",
    "    if group['condition'].unique()[0]=='repeated':\n",
    "        M_sketch.loc[(M_sketch['gameID']==name[0]) & (M_sketch['objectID']==name[1]) & (M_sketch['repetition_number']=='07'),'phase'] = 'post'\n",
    "    elif group['condition'].unique()[0]=='control':\n",
    "        M_sketch.loc[(M_sketch['gameID']==name[0]) & (M_sketch['objectID']==name[1]) & (M_sketch['repetition_number']=='01'),'phase'] = 'post'    \n",
    "    else:\n",
    "        print('Something went wrong when trying to add phase information!')\n",
    "                       "
   ]
  },
  {
   "cell_type": "code",
   "execution_count": 7,
   "id": "31efb78a",
   "metadata": {},
   "outputs": [],
   "source": [
    "## APPLY PREPROCESSING TO THE OBJECT METADATA\n",
    "for ind, row in M_obj.iterrows():\n",
    "    path_pieces = row['path'].split('/')\n",
    "    fname = path_pieces[-1]\n",
    "    shapenetID = fname.split('.')[0]\n",
    "    M_obj.loc[ind,'filename'] = fname\n",
    "    M_obj.loc[ind,'shapenetID'] = shapenetID                "
   ]
  },
  {
   "cell_type": "code",
   "execution_count": 95,
   "id": "3a69569c",
   "metadata": {},
   "outputs": [],
   "source": [
    "## join sketch metadata and features to create unified dataframe\n",
    "S = M_sketch.join(pd.DataFrame(F_sketch))    \n",
    "\n",
    "## join object metadata and features to create unified dataframe\n",
    "O = M_obj.join(pd.DataFrame(F_obj)).sort_values(by='shapenetID')    \n",
    "O['data_type'] = 'object'\n",
    "\n",
    "## the number of unique shapenetID's in the sketch dataset match the number of unique shapenetID's in the object dataset\n",
    "assert len(S['shapenetID'].unique())==len(O['shapenetID'].unique())"
   ]
  },
  {
   "cell_type": "code",
   "execution_count": null,
   "id": "b63fa88c",
   "metadata": {},
   "outputs": [],
   "source": []
  },
  {
   "cell_type": "code",
   "execution_count": null,
   "id": "b6c430d7",
   "metadata": {},
   "outputs": [],
   "source": []
  },
  {
   "cell_type": "code",
   "execution_count": 52,
   "id": "fc2cb619",
   "metadata": {},
   "outputs": [],
   "source": [
    "shapenetIDs = sorted(S['shapenetID'].unique())\n",
    "this_shapenetID = shapenetIDs[0]"
   ]
  },
  {
   "cell_type": "code",
   "execution_count": 53,
   "id": "5762c0ba",
   "metadata": {},
   "outputs": [],
   "source": [
    "## take pre phase drawings of a particular object from both conditions, from all sketchers\n",
    "feat_cols = np.arange(4096)\n",
    "these_sketch_feats = S[(S['shapenetID']==this_shapenetID) & (S['phase']=='pre')][feat_cols]\n",
    "mean_sketch_feat = these_sketch_feats.mean(0)\n",
    "\n",
    "## grab feature vector for this object\n",
    "this_obj_feat = O[O['shapenetID']==this_shapenetID][feat_cols]\n",
    "mean_obj_feat = this_obj_feat.mean(0)\n",
    "\n",
    "assert this_obj_feat.shape[1] == these_sketch_feats.shape[1]"
   ]
  },
  {
   "cell_type": "code",
   "execution_count": 98,
   "id": "62c7335b",
   "metadata": {},
   "outputs": [],
   "source": [
    "## initialize empty mean sketch feature matrix\n",
    "_Smean = np.full((len(shapenetIDs),4096),np.nan)\n",
    "\n",
    "## construct mean sketch feature matrix (sorted alphabetically by shapenetID)\n",
    "for ind, this_shapenetID in enumerate(shapenetIDs):\n",
    "    feat_cols = np.arange(4096)\n",
    "    these_sketch_feats = S[(S['shapenetID']==this_shapenetID) & (S['phase']=='pre')][feat_cols]\n",
    "    mean_sketch_feat = these_sketch_feats.mean(0)\n",
    "    _Smean[ind,:] = mean_sketch_feat\n",
    "    \n",
    "## convert Smean to dataframe to add metadata\n",
    "_Smean = pd.DataFrame(_Smean)    \n",
    "\n",
    "## join feature matrix to shapenetID and data_type metadata\n",
    "Smean_ = pd.DataFrame()\n",
    "Smean_['shapenetID'] = shapenetIDs\n",
    "Smean_['data_type'] = 'sketch'\n",
    "Smean = Smean_.join(_Smean)\n",
    "\n",
    "## construct analogous dataframe for object metadata and features\n",
    "key_cols = ['shapenetID','data_type'] + list(feat_cols)\n",
    "Omean = O.loc[:,key_cols]"
   ]
  },
  {
   "cell_type": "code",
   "execution_count": 114,
   "id": "b27a1cdd",
   "metadata": {},
   "outputs": [],
   "source": [
    "## join sketch and object feature matrices\n",
    "SO = pd.concat([Smean,Omean]).reset_index(drop=True)\n",
    "SO['shapenet_dtype'] = SO['shapenetID'] + '_' + SO['data_type']\n",
    "SO.drop(columns=['shapenetID','data_type'], inplace=True)"
   ]
  },
  {
   "cell_type": "code",
   "execution_count": 132,
   "id": "ca61229e",
   "metadata": {},
   "outputs": [
    {
     "data": {
      "text/plain": [
       "<AxesSubplot:>"
      ]
     },
     "execution_count": 132,
     "metadata": {},
     "output_type": "execute_result"
    },
    {
     "data": {
      "image/png": "[encoded data removed]",
      "text/plain": [
       "<Figure size 432x288 with 2 Axes>"
      ]
     },
     "metadata": {},
     "output_type": "display_data"
    }
   ],
   "source": [
    "## correlation matrix\n",
    "R = SO.loc[:,feat_cols].transpose().corr()\n",
    "\n",
    "## draw heatmap\n",
    "sns.heatmap(R)"
   ]
  },
  {
   "cell_type": "code",
   "execution_count": 134,
   "id": "8b9fe7ca",
   "metadata": {},
   "outputs": [
    {
     "data": {
      "text/plain": [
       "['waiting_00',\n",
       " 'waiting_01',\n",
       " 'waiting_03',\n",
       " 'waiting_02',\n",
       " 'waiting_04',\n",
       " 'waiting_05',\n",
       " 'waiting_06',\n",
       " 'waiting_07',\n",
       " 'dining_00',\n",
       " 'dining_01',\n",
       " 'dining_03',\n",
       " 'dining_04',\n",
       " 'dining_05',\n",
       " 'dining_06',\n",
       " 'dining_02',\n",
       " 'dining_07']"
      ]
     },
     "execution_count": 134,
     "metadata": {},
     "output_type": "execute_result"
    }
   ],
   "source": [
    "[S2G[i] for i in shapenetIDs]"
   ]
  },
  {
   "cell_type": "code",
   "execution_count": null,
   "id": "f3e442ed",
   "metadata": {},
   "outputs": [],
   "source": []
  },
  {
   "cell_type": "code",
   "execution_count": null,
   "id": "a887af00",
   "metadata": {},
   "outputs": [],
   "source": []
  },
  {
   "cell_type": "code",
   "execution_count": null,
   "id": "799a13d0",
   "metadata": {},
   "outputs": [],
   "source": []
  },
  {
   "cell_type": "code",
   "execution_count": 11,
   "id": "13ea7549",
   "metadata": {},
   "outputs": [],
   "source": [
    "## compare repetition 1 drawings of chair A to chair B (heatmap)\n"
   ]
  },
  {
   "cell_type": "code",
   "execution_count": null,
   "id": "ff6a4342",
   "metadata": {},
   "outputs": [],
   "source": []
  },
  {
   "cell_type": "code",
   "execution_count": 119,
   "id": "675433e7",
   "metadata": {},
   "outputs": [],
   "source": [
    "from string import ascii_letters\n",
    "import numpy as np\n",
    "import pandas as pd\n",
    "import seaborn as sns\n",
    "import matplotlib.pyplot as plt\n",
    "\n",
    "# Generate a large random dataset\n",
    "rs = np.random.RandomState(33)\n",
    "d = pd.DataFrame(data=rs.normal(size=(100, 26)),\n",
    "                 columns=list(ascii_letters[26:]))"
   ]
  },
  {
   "cell_type": "code",
   "execution_count": 123,
   "id": "b89ab506",
   "metadata": {},
   "outputs": [
    {
     "data": {
      "text/plain": [
       "(100, 26)"
      ]
     },
     "execution_count": 123,
     "metadata": {},
     "output_type": "execute_result"
    }
   ],
   "source": [
    "d.shape"
   ]
  },
  {
   "cell_type": "code",
   "execution_count": 121,
   "id": "32f59b37",
   "metadata": {},
   "outputs": [],
   "source": [
    "# Compute the correlation matrix\n",
    "corr = d.corr()"
   ]
  },
  {
   "cell_type": "code",
   "execution_count": 122,
   "id": "d9be6bd2",
   "metadata": {},
   "outputs": [
    {
     "data": {
      "text/plain": [
       "(26, 26)"
      ]
     },
     "execution_count": 122,
     "metadata": {},
     "output_type": "execute_result"
    }
   ],
   "source": [
    "corr.shape"
   ]
  },
  {
   "cell_type": "code",
   "execution_count": null,
   "id": "41ac6a89",
   "metadata": {},
   "outputs": [],
   "source": []
  },
  {
   "cell_type": "code",
   "execution_count": null,
   "id": "68c36249",
   "metadata": {},
   "outputs": [],
   "source": []
  },
  {
   "cell_type": "code",
   "execution_count": null,
   "id": "6b44ae5e",
   "metadata": {},
   "outputs": [],
   "source": []
  },
  {
   "cell_type": "code",
   "execution_count": null,
   "id": "5418903d",
   "metadata": {},
   "outputs": [],
   "source": []
  },
  {
   "cell_type": "code",
   "execution_count": null,
   "id": "3943ad53",
   "metadata": {},
   "outputs": [],
   "source": []
  }
 ],
 "metadata": {
  "kernelspec": {
   "display_name": "Python 3 (ipykernel)",
   "language": "python",
   "name": "python3"
  },
  "language_info": {
   "codemirror_mode": {
    "name": "ipython",
    "version": 3
   },
   "file_extension": ".py",
   "mimetype": "text/x-python",
   "name": "python",
   "nbconvert_exporter": "python",
   "pygments_lexer": "ipython3",
   "version": "3.8.3"
  }
 },
 "nbformat": 4,
 "nbformat_minor": 5
}
