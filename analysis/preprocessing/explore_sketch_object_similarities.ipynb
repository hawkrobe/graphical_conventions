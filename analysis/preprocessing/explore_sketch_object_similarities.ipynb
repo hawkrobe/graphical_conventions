{
 "cells": [
  {
   "cell_type": "markdown",
   "id": "c5751109",
   "metadata": {},
   "source": [
    "# explore sketch object similarities\n",
    "\n",
    "The purpose of this notebook is to:\n",
    "* Measure how much more similar successive sketches of the SAME object are than sketches of DIFFERENT objects drawn in consecutive repetitions\n",
    "* Measure how much more similar sketches of the SAME object are within a repetition (a proxy for resemblance) than arbitrarily sampled sketches from within a repetition. Examine how this similarity changes over time. "
   ]
  },
  {
   "cell_type": "code",
   "execution_count": 1,
   "id": "24e016c4",
   "metadata": {},
   "outputs": [],
   "source": [
    "import os, sys\n",
    "## add helpers to python path\n",
    "if os.path.join('..','helpers') not in sys.path:\n",
    "    sys.path.append(os.path.join('..','helpers'))\n",
    "\n",
    "import pymongo as pm\n",
    "import numpy as np\n",
    "import scipy.stats as stats\n",
    "import pandas as pd\n",
    "import json\n",
    "import requests\n",
    "import re\n",
    "from io import BytesIO\n",
    "from PIL import Image, ImageFilter\n",
    "import object_mask_utils as u\n",
    "import socket\n",
    "import glob\n",
    "from scipy.stats import entropy\n",
    "\n",
    "import matplotlib\n",
    "from matplotlib import pylab, mlab, pyplot\n",
    "%matplotlib inline\n",
    "from IPython.core.pylabtools import figsize, getfigs\n",
    "plt = pyplot\n",
    "import seaborn as sns\n",
    "sns.set_context('talk')\n",
    "sns.set_style('white')\n",
    "\n",
    "from skimage import io, img_as_float\n",
    "import base64\n",
    "\n",
    "from IPython.core.pylabtools import figsize, getfigs\n",
    "\n",
    "from IPython.display import clear_output\n",
    "import importlib\n",
    "import time\n",
    "\n",
    "from collections import Counter\n",
    "import operator\n",
    "\n",
    "import warnings\n",
    "warnings.filterwarnings(\"ignore\", category=DeprecationWarning)\n",
    "warnings.filterwarnings(\"ignore\", message=\"numpy.dtype size changed\")\n",
    "warnings.filterwarnings(\"ignore\", message=\"numpy.ufunc size changed\")"
   ]
  },
  {
   "cell_type": "markdown",
   "id": "7aa071c6",
   "metadata": {},
   "source": [
    "### setup paths"
   ]
  },
  {
   "cell_type": "code",
   "execution_count": 3,
   "id": "96c75d84",
   "metadata": {},
   "outputs": [],
   "source": [
    "## which experiment do you want to analyze? options: refgame1.2, refgame2.o\n",
    "curr_exp = 'refgame1.2'\n",
    "\n",
    "## directory & file hierarchy\n",
    "proj_dir = os.path.abspath('../../')\n",
    "analysis_dir = os.getcwd()\n",
    "data_dir = os.path.join(proj_dir,'data')\n",
    "experiment_dir = os.path.join(data_dir, 'experiment', curr_exp)\n",
    "feat_dir = os.path.join(data_dir, 'features', curr_exp)\n",
    "\n",
    "## paths to visual features & metadata\n",
    "path_to_feats = os.path.join(feat_dir, 'FEATURES_vgg_FC6.npy')\n",
    "path_to_meta = os.path.join(feat_dir, 'METADATA.csv')\n",
    "\n",
    "## import dictionaries that map between shapenet ids and graphical conventions naming scheme\n",
    "importlib.reload(u)\n",
    "G2S = u.GC2SHAPENET\n",
    "S2G = u.SHAPENET2GC"
   ]
  },
  {
   "cell_type": "code",
   "execution_count": null,
   "id": "62ef3c6d",
   "metadata": {},
   "outputs": [],
   "source": []
  },
  {
   "cell_type": "code",
   "execution_count": null,
   "id": "f28b514c",
   "metadata": {},
   "outputs": [],
   "source": []
  },
  {
   "cell_type": "code",
   "execution_count": null,
   "id": "88f18c12",
   "metadata": {},
   "outputs": [],
   "source": []
  },
  {
   "cell_type": "code",
   "execution_count": null,
   "id": "9f3ef173",
   "metadata": {},
   "outputs": [],
   "source": []
  }
 ],
 "metadata": {
  "kernelspec": {
   "display_name": "Python 3 (ipykernel)",
   "language": "python",
   "name": "python3"
  },
  "language_info": {
   "codemirror_mode": {
    "name": "ipython",
    "version": 3
   },
   "file_extension": ".py",
   "mimetype": "text/x-python",
   "name": "python",
   "nbconvert_exporter": "python",
   "pygments_lexer": "ipython3",
   "version": "3.8.3"
  }
 },
 "nbformat": 4,
 "nbformat_minor": 5
}
