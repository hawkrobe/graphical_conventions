{
 "cells": [
  {
   "cell_type": "code",
   "execution_count": 3,
   "id": "d692d5f5",
   "metadata": {},
   "outputs": [],
   "source": [
    "import sys\n",
    "import os\n",
    "import pandas as pd\n",
    "import numpy as np\n",
    "sys.path.append('../helpers')\n",
    "import df_generation_helpers as h"
   ]
  },
  {
   "cell_type": "code",
   "execution_count": 4,
   "id": "5f099925",
   "metadata": {},
   "outputs": [],
   "source": [
    "# directory & file hierarchy\n",
    "proj_dir = os.path.abspath('../..')\n",
    "analysis_dir = os.getcwd()\n",
    "results_dir = os.path.join(proj_dir,'data')\n",
    "plot_dir = os.path.join(results_dir,'plots')\n",
    "csv_dir = os.path.join(results_dir,'experiment')\n",
    "exp_dir = os.path.abspath(os.path.join(proj_dir,'experiments'))\n",
    "sketch_dir = os.path.abspath(os.path.join(results_dir,'sketches'))"
   ]
  },
  {
   "cell_type": "code",
   "execution_count": 5,
   "id": "c0e24605",
   "metadata": {},
   "outputs": [],
   "source": [
    "## load run3run4 group data and save out BIS dataframes\n",
    "D = pd.read_csv(os.path.join(csv_dir,'refgame1.2', 'graphical_conventions_group_data_run3run4.csv'))\n",
    "h.save_bis(D, csv_dir, 'run3run4')"
   ]
  },
  {
   "cell_type": "code",
   "execution_count": 10,
   "id": "4b767469",
   "metadata": {},
   "outputs": [
    {
     "name": "stdout",
     "output_type": "stream",
     "text": [
      "Saved BIS dataframes out!\n"
     ]
    }
   ],
   "source": [
    "## load run5_submitButton group data and save out BIS dataframes\n",
    "D = pd.read_csv(os.path.join(csv_dir,'refgame2.0', 'graphical_conventions_group_data_run5_submitButton.csv'))\n",
    "h.save_bis(D, csv_dir, 'run5_submitButton')"
   ]
  },
  {
   "cell_type": "code",
   "execution_count": null,
   "id": "3c7e16ce",
   "metadata": {},
   "outputs": [],
   "source": []
  }
 ],
 "metadata": {
  "kernelspec": {
   "display_name": "Python 3 (ipykernel)",
   "language": "python",
   "name": "python3"
  },
  "language_info": {
   "codemirror_mode": {
    "name": "ipython",
    "version": 3
   },
   "file_extension": ".py",
   "mimetype": "text/x-python",
   "name": "python",
   "nbconvert_exporter": "python",
   "pygments_lexer": "ipython3",
   "version": "3.8.3"
  }
 },
 "nbformat": 4,
 "nbformat_minor": 5
}
