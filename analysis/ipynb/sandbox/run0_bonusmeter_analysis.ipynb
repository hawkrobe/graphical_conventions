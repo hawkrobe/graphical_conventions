{
 "cells": [
  {
   "cell_type": "code",
   "execution_count": null,
   "metadata": {
    "collapsed": true
   },
   "outputs": [],
   "source": [
    "from __future__ import division\n",
    "\n",
    "import os\n",
    "import urllib, cStringIO\n",
    "\n",
    "import pymongo as pm\n",
    "\n",
    "import matplotlib\n",
    "from matplotlib import pylab, mlab, pyplot\n",
    "%matplotlib inline\n",
    "from IPython.core.pylabtools import figsize, getfigs\n",
    "plt = pyplot\n",
    "import seaborn as sns\n",
    "sns.set_context('poster')\n",
    "sns.set_style('white')\n",
    "\n",
    "import numpy as np\n",
    "import scipy.stats as stats\n",
    "import pandas as pd\n",
    "import json\n",
    "import re\n",
    "\n",
    "from PIL import Image\n",
    "import base64\n",
    "import sys"
   ]
  },
  {
   "cell_type": "markdown",
   "metadata": {},
   "source": [
    "### Setup"
   ]
  },
  {
   "cell_type": "code",
   "execution_count": null,
   "metadata": {},
   "outputs": [],
   "source": [
    "# directory & file hierarchy\n",
    "proj_dir = os.path.abspath('../../..')\n",
    "analysis_dir = os.getcwd()\n",
    "results_dir = os.path.join(proj_dir,'results')\n",
    "plot_dir = os.path.join(results_dir,'plots')\n",
    "csv_dir = os.path.join(results_dir,'csv')\n",
    "exp_dir = os.path.abspath(os.path.join(proj_dir,'experiments'))\n",
    "sketch_dir = os.path.abspath(os.path.join(proj_dir,'sketches'))\n",
    "\n",
    "## add helpers to python path\n",
    "if os.path.join(proj_dir,'analysis','python') not in sys.path:\n",
    "    sys.path.append(os.path.join(proj_dir,'analysis','python'))\n",
    "    \n",
    "if not os.path.exists(results_dir):\n",
    "    os.makedirs(results_dir)\n",
    "    \n",
    "if not os.path.exists(plot_dir):\n",
    "    os.makedirs(plot_dir)   \n",
    "    \n",
    "if not os.path.exists(csv_dir):\n",
    "    os.makedirs(csv_dir)       \n",
    "    \n",
    "# Assign variables within imported analysis helpers\n",
    "import analysis_helpers as h\n",
    "if sys.version_info[0]>=3:\n",
    "    from importlib import reload\n",
    "reload(h)"
   ]
  },
  {
   "cell_type": "code",
   "execution_count": null,
   "metadata": {
    "collapsed": true
   },
   "outputs": [],
   "source": [
    "# set vars \n",
    "auth = pd.read_csv('auth.txt', header = None) # this auth.txt file contains the password for the sketchloop user\n",
    "pswd = auth.values[0][0]\n",
    "user = 'sketchloop'\n",
    "host = 'rxdhawkins.me' ## cocolab ip address\n",
    "\n",
    "# have to fix this to be able to analyze from local\n",
    "import pymongo as pm\n",
    "conn = pm.MongoClient('mongodb://sketchloop:' + pswd + '@127.0.0.1')\n",
    "db = conn['3dObjects']\n",
    "coll = db['graphical_conventions']\n",
    "\n",
    "# which iteration name should we use?\n",
    "iterationName = 'run0_bonusmeter'"
   ]
  },
  {
   "cell_type": "code",
   "execution_count": null,
   "metadata": {},
   "outputs": [],
   "source": [
    "## get total number of stroke and clickedObj events in the collection as a whole\n",
    "S = coll.find({ '$and': [{'iterationName':iterationName}, {'eventType': 'stroke'}]}).sort('time')\n",
    "C = coll.find({ '$and': [{'iterationName':iterationName}, {'eventType': 'clickedObj'}]}).sort('time')\n",
    "print str(S.count()) + ' stroke records in the database.'\n",
    "print str(C.count()) + ' clickedObj records in the database.'"
   ]
  },
  {
   "cell_type": "code",
   "execution_count": null,
   "metadata": {},
   "outputs": [],
   "source": []
  },
  {
   "cell_type": "markdown",
   "metadata": {},
   "source": [
    "### Generate group dataframe"
   ]
  },
  {
   "cell_type": "code",
   "execution_count": null,
   "metadata": {},
   "outputs": [],
   "source": [
    "## list of researcher mturk worker ID's to ignore\n",
    "jefan = ['A1MMCS8S8CTWKU','A1MMCS8S8CTWKV','A1MMCS8S8CTWKS']\n",
    "hawkrobe = ['A1BOIDKD33QSDK']\n",
    "megsano = ['A1DVQQLVZR7W6I']\n",
    "researchers = jefan + hawkrobe + megsano"
   ]
  },
  {
   "cell_type": "code",
   "execution_count": null,
   "metadata": {},
   "outputs": [],
   "source": [
    "## get list of all candidate games\n",
    "games = coll.distinct('gameid')\n",
    "\n",
    "## get list of complete and valid games\n",
    "complete_games = h.get_complete_and_valid_games(games,coll,researchers=researchers)"
   ]
  },
  {
   "cell_type": "code",
   "execution_count": null,
   "metadata": {
    "collapsed": true
   },
   "outputs": [],
   "source": []
  },
  {
   "cell_type": "code",
   "execution_count": null,
   "metadata": {},
   "outputs": [],
   "source": [
    "# preprocessing \n",
    "\n",
    "TrialNum = []\n",
    "GameID = []\n",
    "Condition = []\n",
    "Target = []\n",
    "## TODO: add \"Category\" to this dataframe\n",
    "Distractor1 = []\n",
    "Distractor2 = []\n",
    "Distractor3 = []\n",
    "Outcome = []\n",
    "Response = []\n",
    "Repetition = []\n",
    "Phase = []\n",
    "numStrokes = []\n",
    "drawDuration = [] # in seconds\n",
    "svgStringLength = [] # sum of svg string for whole sketch\n",
    "svgStringLengthPerStroke = [] # svg string length per stroke\n",
    "numCurvesPerSketch = [] # number of curve segments per sketch\n",
    "numCurvesPerStroke = [] # mean number of curve segments per stroke\n",
    "svgStringStd = [] # std of svg string length across strokes for this sketch\n",
    "Outcome = []\n",
    "png=[]\n",
    "\n",
    "_complete_games = complete_games[:2]\n",
    "for i,g in enumerate(_complete_games):\n",
    "        print 'Analyzing game {} | {} of {}: '.format(g, i, len(complete_games))\n",
    "\n",
    "        # collection of all clickedObj events in a particular game \n",
    "        X = coll.find({ '$and': [{'gameid': g}, {'eventType': 'clickedObj'}]}).sort('time')\n",
    "        # collection of all stroke events in a particular game \n",
    "        Y = coll.find({ '$and': [{'gameid': g}, {'eventType': 'stroke'}]}).sort('time')\n",
    "\n",
    "        for t in X: # for each clickedObj event\n",
    "            #print \"new t\"\n",
    "            targetname = t['intendedName']\n",
    "            Phase.append(t['phase'])\n",
    "            Repetition.append(t['repetition'])\n",
    "            distractors = [t['object2Name'],t['object3Name'],t['object4Name']]\n",
    "            full_list = [t['intendedName'],t['object2Name'],t['object3Name'],t['object4Name']] \n",
    "            png.append(t['pngString'])\n",
    "\n",
    "            #for each stroke event with same trial number as this particular clickedObj event \n",
    "            y = coll.find({ '$and': [{'gameid': g}, {'eventType': 'stroke'}, {'trialNum': t['trialNum']}]}).sort('time')\n",
    "            lastStrokeNum = float(y[y.count() - 1]['currStrokeNum']) # get currStrokeNum at last stroke\n",
    "            numStrokes.append(lastStrokeNum)\n",
    "            startStrokeTime =  float(y[0]['startStrokeTime'])\n",
    "            endStrokeTime = float(y[y.count() - 1]['endStrokeTime'])\n",
    "            duration = (endStrokeTime - startStrokeTime) / 1000\n",
    "            drawDuration.append(duration)\n",
    "            ls = [len(_y['svgData']) for _y in y]\n",
    "            svgStringLength.append(sum(ls))\n",
    "            ## \n",
    "            y = coll.find({ '$and': [{'gameid': g}, {'eventType': 'stroke'}, {'trialNum': t['trialNum']}]}).sort('time')            \n",
    "            num_curves = [len([m.start() for m in re.finditer('c',str(_y['svgData']))]) for _y in y] ## gotcha: need to call string on _y['svgData'], o/w its unicode and re cant do anything with it\n",
    "            numCurvesPerSketch.append(sum(num_curves))\n",
    "            numCurvesPerStroke.append(sum(num_curves)/lastStrokeNum)\n",
    "            svgStringLengthPerStroke.append(sum(ls)/lastStrokeNum)\n",
    "            svgStringStd.append(np.std(ls))\n",
    "    \n",
    "            ### aggregate game metadata\n",
    "            TrialNum.append(t['trialNum'])\n",
    "            GameID.append(t['gameid'])        \n",
    "            Target.append(targetname)\n",
    "            Condition.append(t['condition'])\n",
    "            Response.append(t['clickedName'])\n",
    "            Outcome.append(t['correct'])\n",
    "            Distractor1.append(distractors[0])\n",
    "            Distractor2.append(distractors[1])\n",
    "            Distractor3.append(distractors[2])  \n"
   ]
  },
  {
   "cell_type": "code",
   "execution_count": null,
   "metadata": {
    "collapsed": true
   },
   "outputs": [],
   "source": []
  },
  {
   "cell_type": "code",
   "execution_count": null,
   "metadata": {},
   "outputs": [],
   "source": [
    "## now actually make dataframe\n",
    "# MAIN DATA\n",
    "GameID,TrialNum,Condition, Target, Repetition, Phase, drawDuration, Outcome, Response, numStrokes, svgStringLength, svgStringLengthPerStroke, svgStringStd, png = map(np.array, \\\n",
    "[GameID,TrialNum,Condition, Target, Repetition, Phase, drawDuration,Outcome, Response, numStrokes, svgStringLength, svgStringLengthPerStroke, svgStringStd, png])    \n",
    "\n",
    "Repetition = map(int,Repetition)\n",
    "\n",
    "D = pd.DataFrame([GameID,TrialNum,Condition, Target, Repetition, Phase, drawDuration,Outcome, Response, numStrokes, svgStringLength, svgStringLengthPerStroke, svgStringStd, png], \n",
    "                 index = ['gameID','trialNum','condition', 'target', 'repetition', 'phase', 'drawDuration','outcome', 'response', 'numStrokes', 'svgStringLength', 'svgStringLengthPerStroke', 'svgStringStd', 'png'])\n",
    "D = D.transpose()\n",
    "\n",
    "## save out dataframe to be able to load in and analyze later w/o doing the above mongo querying ...\n",
    "D.to_csv(os.path.join(results_dir,'graphical_conventions_group_data_{}.csv'.format(iterationName)))"
   ]
  },
  {
   "cell_type": "code",
   "execution_count": null,
   "metadata": {},
   "outputs": [],
   "source": []
  },
  {
   "cell_type": "markdown",
   "metadata": {},
   "source": [
    "### Load group data and visualize behavioral measures over time"
   ]
  },
  {
   "cell_type": "markdown",
   "metadata": {},
   "source": [
    "#### TODO\n",
    "0. numCurves empty \n",
    "1. look at individual targets -actual sketches \n",
    "2. accuracy \n",
    "3. repeated vs control\n",
    "4. urgent: what happened with '1180-2832f7d7-535a-4fb3-acf4-d40972f6d878' and '9114-90215f67-5c7f-467a-9664-cf43962b5daa' -- why are there multiple rows for the same trialNum?\n",
    "5. add category to dataframe using dictionary in analysis_helpers\n",
    "6. print function for control condition\n",
    "7. replace placeholder in name of sketch rendered file with the actual category metadata\n",
    "8. then we can factor out the sketch rendering functions to analysis_helpers"
   ]
  },
  {
   "cell_type": "code",
   "execution_count": null,
   "metadata": {},
   "outputs": [],
   "source": [
    "# reload analysis_helpers just to be on the safe side \n",
    "reload(h)\n",
    "\n",
    "## set seaborn style params here\n",
    "sns.set_context('poster')\n",
    "sns.set_style('white')"
   ]
  },
  {
   "cell_type": "markdown",
   "metadata": {},
   "source": [
    "##### plot time series during repetition phase"
   ]
  },
  {
   "cell_type": "code",
   "execution_count": null,
   "metadata": {},
   "outputs": [],
   "source": [
    "### which thing do you want to plot over time?\n",
    "dv = 'drawDuration'\n",
    "D0 = h.plot_across_repeats(D,var=dv,limit=12,save_plot=True,plot_dir=plot_dir)"
   ]
  },
  {
   "cell_type": "markdown",
   "metadata": {},
   "source": [
    "##### compare conditions in pre and post phases"
   ]
  },
  {
   "cell_type": "code",
   "execution_count": null,
   "metadata": {},
   "outputs": [],
   "source": [
    "dv = 'drawDuration'\n",
    "D1 = h.compare_conditions_prepost(D,\n",
    "                                var=dv,\n",
    "                                limit=15,\n",
    "                                save_plot=True,\n",
    "                                plot_dir=plot_dir)"
   ]
  },
  {
   "cell_type": "markdown",
   "metadata": {},
   "source": [
    "### visualize how the sketches are changing across repetitions"
   ]
  },
  {
   "cell_type": "code",
   "execution_count": null,
   "metadata": {
    "scrolled": false
   },
   "outputs": [],
   "source": [
    "### printing out REPEATED CONDITION sketches \n",
    "\n",
    "_valid_gameids = complete_games[6:]\n",
    "\n",
    "for g in _valid_gameids:\n",
    "    print 'Printing out sketches from game: ' + g\n",
    "    trial_types = ['repeated']\n",
    "    for tt in trial_types:\n",
    "        _D = D[(D.condition=='repeated') & (D.gameID==g)]\n",
    "        all_targs = np.unique(_D.target.values) ## use this later to name the file\n",
    "        _D = _D.sort_values(by=['target','repetition'])\n",
    "        _i = 1\n",
    "        textsize=12\n",
    "        fig = plt.figure(figsize=(16,6))\n",
    "        for i,_d in _D.iterrows():\n",
    "            imgData = _d['png']\n",
    "            filestr = base64.b64decode(imgData)\n",
    "            fname = 'sketch.png'\n",
    "            with open(fname, \"wb\") as fh:\n",
    "                fh.write(imgData.decode('base64'))\n",
    "            textsize = 16\n",
    "            # first plot the target\n",
    "            im = Image.open(fname)\n",
    "            p = plt.subplot(4,8,_i)\n",
    "            plt.imshow(im)\n",
    "            sns.set_style('white')\n",
    "            k = p.get_xaxis().set_ticklabels([])\n",
    "            k = p.get_yaxis().set_ticklabels([])\n",
    "            k = p.get_xaxis().set_ticks([])\n",
    "            k = p.get_yaxis().set_ticks([]) \n",
    "            outcome = _d['outcome']\n",
    "            if outcome == 1:\n",
    "                sides = ['bottom','top','right','left']\n",
    "                for s in sides:\n",
    "                    p.spines[s].set_color((0.4,0.8,0.4))\n",
    "                    p.spines[s].set_linewidth(4)                               \n",
    "            else:\n",
    "                sides = ['bottom','top','right','left']\n",
    "                for s in sides:\n",
    "                    p.spines[s].set_color((0.9,0.2,0.2))\n",
    "                    p.spines[s].set_linewidth(4)    \n",
    "            if (_i-1 < 8) & (tt in 'repeated'): \n",
    "                plt.title('rep ' + str(_d['repetition']) ,fontsize=textsize)\n",
    "            if (_i-1)%8==0:\n",
    "                plt.ylabel(_d['target'] ,fontsize=textsize)\n",
    "\n",
    "            _i  = _i + 1\n",
    "                    \n",
    "        filepath = os.path.join(sketch_dir,'repeated','{}_{}.pdf'.format(g,'placeholder'))                                                                \n",
    "        if not os.path.exists(os.path.join(sketch_dir,'repeated')):\n",
    "            os.makedirs(os.path.join(sketch_dir,'repeated'))\n",
    "        plt.tight_layout()\n",
    "        plt.savefig(os.path.join(sketch_dir,'repeated',filepath))\n",
    "        plt.close(fig)\n"
   ]
  },
  {
   "cell_type": "code",
   "execution_count": null,
   "metadata": {},
   "outputs": [],
   "source": []
  },
  {
   "cell_type": "code",
   "execution_count": null,
   "metadata": {},
   "outputs": [],
   "source": []
  },
  {
   "cell_type": "markdown",
   "metadata": {},
   "source": [
    "##### WORKING AREA: adapt below to render control condition sketches, too"
   ]
  },
  {
   "cell_type": "code",
   "execution_count": null,
   "metadata": {
    "collapsed": true
   },
   "outputs": [],
   "source": [
    "# ### printing out CONTROL CONDITION sketches \n",
    "\n",
    "# #_valid_gameids = valid_gameids[:3]\n",
    "# for g in valid_gameids:\n",
    "#     print 'Printing out sketches from game: ' + g\n",
    "# #     trial_types = np.unique(D2.trialType.values)\n",
    "# #     trial_types = [i for i in list(np.unique(D2.trialType.values)) if i.split('_')[1]=='repeated']\n",
    "#     trial_types = ['control']\n",
    "#     for tt in trial_types:\n",
    "#         _D = D2[(D2.condition=='control') & (D2.gameID==g)]\n",
    "#         _D = _D.sort_values(by=['target','repetition'])\n",
    "#         _i = 1\n",
    "#         textsize=12\n",
    "#         fig = plt.figure(figsize=(6,16))\n",
    "#         for i,_d in _D.iterrows():\n",
    "#             imgData = _d['png']\n",
    "#             filestr = base64.b64decode(imgData)\n",
    "#             fname = 'sketch.png'\n",
    "#             with open(fname, \"wb\") as fh:\n",
    "#                 fh.write(imgData.decode('base64'))\n",
    "#             textsize = 16\n",
    "#             # first plot the target\n",
    "#             im = Image.open(fname)\n",
    "#             p = plt.subplot(4,2,_i)\n",
    "#             plt.imshow(im)\n",
    "#             sns.set_style('white')\n",
    "#             k = p.get_xaxis().set_ticklabels([])\n",
    "#             k = p.get_yaxis().set_ticklabels([])\n",
    "#             k = p.get_xaxis().set_ticks([])\n",
    "#             k = p.get_yaxis().set_ticks([]) \n",
    "# #             plt.title(_d['repetition'])\n",
    "#             outcome = _d['outcome']\n",
    "#             if outcome == 1:\n",
    "#                 sides = ['bottom','top','right','left']\n",
    "#                 for s in sides:\n",
    "#                     p.spines[s].set_color((0.4,0.8,0.4))\n",
    "#                     p.spines[s].set_linewidth(4)                               \n",
    "#             else:\n",
    "#                 sides = ['bottom','top','right','left']\n",
    "#                 for s in sides:\n",
    "#                     p.spines[s].set_color((0.9,0.2,0.2))\n",
    "#                     p.spines[s].set_linewidth(4)    \n",
    "#             if (_i-1 < 2) & (tt in 'repeated'): \n",
    "#                 plt.title('rep ' + str(_d['repetition']) ,fontsize=textsize)\n",
    "# #             if (_i < 5) & (tt in 'repeated'):\n",
    "# #                 plt.title(_d['target'] ,fontsize=textsize)\n",
    "#             if (_i-1)%2==0:\n",
    "#                 plt.ylabel(_d['target'] ,fontsize=textsize)\n",
    "\n",
    "#             _i  = _i + 1\n",
    "#         filepath = os.path.join(sketch_dir,'control','gameID_' + _d['gameID'] + '_type_' + _d['condition'])\n",
    "#         if not os.path.exists(os.path.join(sketch_dir,'control')):\n",
    "#             os.makedirs(os.path.join(sketch_dir,'control'))\n",
    "#         save(filepath, ext='pdf', close=True, verbose=False)\n"
   ]
  },
  {
   "cell_type": "code",
   "execution_count": null,
   "metadata": {
    "collapsed": true
   },
   "outputs": [],
   "source": []
  },
  {
   "cell_type": "code",
   "execution_count": null,
   "metadata": {},
   "outputs": [],
   "source": []
  },
  {
   "cell_type": "code",
   "execution_count": null,
   "metadata": {},
   "outputs": [],
   "source": []
  },
  {
   "cell_type": "code",
   "execution_count": null,
   "metadata": {},
   "outputs": [],
   "source": []
  },
  {
   "cell_type": "code",
   "execution_count": null,
   "metadata": {},
   "outputs": [],
   "source": []
  },
  {
   "cell_type": "code",
   "execution_count": null,
   "metadata": {},
   "outputs": [],
   "source": []
  },
  {
   "cell_type": "code",
   "execution_count": null,
   "metadata": {
    "collapsed": true
   },
   "outputs": [],
   "source": []
  },
  {
   "cell_type": "code",
   "execution_count": null,
   "metadata": {},
   "outputs": [],
   "source": []
  },
  {
   "cell_type": "code",
   "execution_count": null,
   "metadata": {},
   "outputs": [],
   "source": []
  },
  {
   "cell_type": "code",
   "execution_count": null,
   "metadata": {},
   "outputs": [],
   "source": []
  },
  {
   "cell_type": "code",
   "execution_count": null,
   "metadata": {
    "collapsed": true
   },
   "outputs": [],
   "source": []
  }
 ],
 "metadata": {
  "kernelspec": {
   "display_name": "Python 2",
   "language": "python",
   "name": "python2"
  },
  "language_info": {
   "codemirror_mode": {
    "name": "ipython",
    "version": 2
   },
   "file_extension": ".py",
   "mimetype": "text/x-python",
   "name": "python",
   "nbconvert_exporter": "python",
   "pygments_lexer": "ipython2",
   "version": "2.7.15"
  }
 },
 "nbformat": 4,
 "nbformat_minor": 1
}
